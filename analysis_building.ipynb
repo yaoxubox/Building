{
 "cells": [
  {
   "cell_type": "markdown",
   "metadata": {},
   "source": [
    "## Introduction"
   ]
  },
  {
   "cell_type": "markdown",
   "metadata": {},
   "source": [
    "## Loading data"
   ]
  },
  {
   "cell_type": "markdown",
   "metadata": {},
   "source": [
    "### loading principal package "
   ]
  },
  {
   "cell_type": "code",
   "execution_count": 376,
   "metadata": {},
   "outputs": [],
   "source": [
    "import numpy as np \n",
    "import matplotlib.pyplot as plt \n",
    "import pandas as pd\n",
    "import warnings\n",
    "warnings.filterwarnings('ignore')\n",
    "%matplotlib inline"
   ]
  },
  {
   "cell_type": "markdown",
   "metadata": {},
   "source": [
    "### loading original building file : overview all dataset "
   ]
  },
  {
   "cell_type": "code",
   "execution_count": 377,
   "metadata": {},
   "outputs": [
    {
     "data": {
      "text/html": [
       "<div>\n",
       "<style scoped>\n",
       "    .dataframe tbody tr th:only-of-type {\n",
       "        vertical-align: middle;\n",
       "    }\n",
       "\n",
       "    .dataframe tbody tr th {\n",
       "        vertical-align: top;\n",
       "    }\n",
       "\n",
       "    .dataframe thead th {\n",
       "        text-align: right;\n",
       "    }\n",
       "</style>\n",
       "<table border=\"1\" class=\"dataframe\">\n",
       "  <thead>\n",
       "    <tr style=\"text-align: right;\">\n",
       "      <th></th>\n",
       "      <th>EPC_ID</th>\n",
       "      <th>Organization_Name</th>\n",
       "      <th>Public_Building_Type</th>\n",
       "      <th>Public_Building_Category</th>\n",
       "      <th>Construction_Year</th>\n",
       "      <th>Refurbishment_Year</th>\n",
       "      <th>Building_Age</th>\n",
       "      <th>Useful_Floor_Area [m2]</th>\n",
       "      <th>EPC_Score</th>\n",
       "      <th>Energy_Carrier_Electricity</th>\n",
       "      <th>...</th>\n",
       "      <th>ONDERWIJS_AANTAL_LLN</th>\n",
       "      <th>ONDERWIJS_AANTAL_M2_SPORTHAL</th>\n",
       "      <th>ONDERWIJS_AANTAL_M2_ZWEMBAD</th>\n",
       "      <th>ONDERWIJS_AANTAL_MAALTIJDEN</th>\n",
       "      <th>OPVANG_AANTAL_KINDEREN</th>\n",
       "      <th>RUSTHUIS_AANTAL_BEDDEN</th>\n",
       "      <th>RUSTHUIS_SERVICEFLATS</th>\n",
       "      <th>ZIEKENHUIS_AANTAL_BEDDEN</th>\n",
       "      <th>ZWEMBAD_WATEROPPERVLAKTE</th>\n",
       "      <th>ZWEMBAD_SUBTROPISCH</th>\n",
       "    </tr>\n",
       "  </thead>\n",
       "  <tbody>\n",
       "    <tr>\n",
       "      <th>0</th>\n",
       "      <td>2</td>\n",
       "      <td>Vrije Basisschool VIEJOOL</td>\n",
       "      <td>primary school</td>\n",
       "      <td>eductional buildings</td>\n",
       "      <td>1953</td>\n",
       "      <td>NaN</td>\n",
       "      <td>66</td>\n",
       "      <td>1278.00</td>\n",
       "      <td>165.87</td>\n",
       "      <td>electricity</td>\n",
       "      <td>...</td>\n",
       "      <td>208.0</td>\n",
       "      <td>NaN</td>\n",
       "      <td>NaN</td>\n",
       "      <td>NaN</td>\n",
       "      <td>NaN</td>\n",
       "      <td>NaN</td>\n",
       "      <td>NaN</td>\n",
       "      <td>NaN</td>\n",
       "      <td>NaN</td>\n",
       "      <td>NaN</td>\n",
       "    </tr>\n",
       "    <tr>\n",
       "      <th>1</th>\n",
       "      <td>5</td>\n",
       "      <td>BuBaO De Berkjes</td>\n",
       "      <td>primary school</td>\n",
       "      <td>eductional buildings</td>\n",
       "      <td>1997</td>\n",
       "      <td>NaN</td>\n",
       "      <td>22</td>\n",
       "      <td>1088.05</td>\n",
       "      <td>120.70</td>\n",
       "      <td>electricity</td>\n",
       "      <td>...</td>\n",
       "      <td>44.0</td>\n",
       "      <td>288.0</td>\n",
       "      <td>NaN</td>\n",
       "      <td>NaN</td>\n",
       "      <td>NaN</td>\n",
       "      <td>NaN</td>\n",
       "      <td>NaN</td>\n",
       "      <td>NaN</td>\n",
       "      <td>NaN</td>\n",
       "      <td>NaN</td>\n",
       "    </tr>\n",
       "    <tr>\n",
       "      <th>2</th>\n",
       "      <td>21</td>\n",
       "      <td>Vlerick</td>\n",
       "      <td>higher education and universities</td>\n",
       "      <td>eductional buildings</td>\n",
       "      <td>1920</td>\n",
       "      <td>2005.0</td>\n",
       "      <td>99</td>\n",
       "      <td>11178.00</td>\n",
       "      <td>409.14</td>\n",
       "      <td>electricity</td>\n",
       "      <td>...</td>\n",
       "      <td>5225.0</td>\n",
       "      <td>NaN</td>\n",
       "      <td>NaN</td>\n",
       "      <td>140.0</td>\n",
       "      <td>NaN</td>\n",
       "      <td>NaN</td>\n",
       "      <td>NaN</td>\n",
       "      <td>NaN</td>\n",
       "      <td>NaN</td>\n",
       "      <td>NaN</td>\n",
       "    </tr>\n",
       "    <tr>\n",
       "      <th>3</th>\n",
       "      <td>22</td>\n",
       "      <td>Vlerick Leuven</td>\n",
       "      <td>higher education and universities</td>\n",
       "      <td>eductional buildings</td>\n",
       "      <td>1920</td>\n",
       "      <td>2005.0</td>\n",
       "      <td>99</td>\n",
       "      <td>4457.00</td>\n",
       "      <td>392.77</td>\n",
       "      <td>electricity</td>\n",
       "      <td>...</td>\n",
       "      <td>2075.0</td>\n",
       "      <td>NaN</td>\n",
       "      <td>NaN</td>\n",
       "      <td>150.0</td>\n",
       "      <td>NaN</td>\n",
       "      <td>NaN</td>\n",
       "      <td>NaN</td>\n",
       "      <td>NaN</td>\n",
       "      <td>NaN</td>\n",
       "      <td>NaN</td>\n",
       "    </tr>\n",
       "    <tr>\n",
       "      <th>4</th>\n",
       "      <td>42</td>\n",
       "      <td>Sint-Jozefsinstituut</td>\n",
       "      <td>secondary school</td>\n",
       "      <td>eductional buildings</td>\n",
       "      <td>1946</td>\n",
       "      <td>2000.0</td>\n",
       "      <td>73</td>\n",
       "      <td>18424.10</td>\n",
       "      <td>123.78</td>\n",
       "      <td>electricity</td>\n",
       "      <td>...</td>\n",
       "      <td>1659.0</td>\n",
       "      <td>948.0</td>\n",
       "      <td>NaN</td>\n",
       "      <td>53.0</td>\n",
       "      <td>NaN</td>\n",
       "      <td>NaN</td>\n",
       "      <td>NaN</td>\n",
       "      <td>NaN</td>\n",
       "      <td>NaN</td>\n",
       "      <td>NaN</td>\n",
       "    </tr>\n",
       "  </tbody>\n",
       "</table>\n",
       "<p>5 rows × 41 columns</p>\n",
       "</div>"
      ],
      "text/plain": [
       "   EPC_ID          Organization_Name               Public_Building_Type  \\\n",
       "0       2  Vrije Basisschool VIEJOOL                     primary school   \n",
       "1       5           BuBaO De Berkjes                     primary school   \n",
       "2      21                    Vlerick  higher education and universities   \n",
       "3      22             Vlerick Leuven  higher education and universities   \n",
       "4      42       Sint-Jozefsinstituut                   secondary school   \n",
       "\n",
       "  Public_Building_Category  Construction_Year  Refurbishment_Year  \\\n",
       "0     eductional buildings               1953                 NaN   \n",
       "1     eductional buildings               1997                 NaN   \n",
       "2     eductional buildings               1920              2005.0   \n",
       "3     eductional buildings               1920              2005.0   \n",
       "4     eductional buildings               1946              2000.0   \n",
       "\n",
       "   Building_Age  Useful_Floor_Area [m2]  EPC_Score Energy_Carrier_Electricity  \\\n",
       "0            66                 1278.00     165.87                electricity   \n",
       "1            22                 1088.05     120.70                electricity   \n",
       "2            99                11178.00     409.14                electricity   \n",
       "3            99                 4457.00     392.77                electricity   \n",
       "4            73                18424.10     123.78                electricity   \n",
       "\n",
       "          ...           ONDERWIJS_AANTAL_LLN ONDERWIJS_AANTAL_M2_SPORTHAL  \\\n",
       "0         ...                          208.0                          NaN   \n",
       "1         ...                           44.0                        288.0   \n",
       "2         ...                         5225.0                          NaN   \n",
       "3         ...                         2075.0                          NaN   \n",
       "4         ...                         1659.0                        948.0   \n",
       "\n",
       "   ONDERWIJS_AANTAL_M2_ZWEMBAD ONDERWIJS_AANTAL_MAALTIJDEN  \\\n",
       "0                          NaN                         NaN   \n",
       "1                          NaN                         NaN   \n",
       "2                          NaN                       140.0   \n",
       "3                          NaN                       150.0   \n",
       "4                          NaN                        53.0   \n",
       "\n",
       "   OPVANG_AANTAL_KINDEREN RUSTHUIS_AANTAL_BEDDEN  RUSTHUIS_SERVICEFLATS  \\\n",
       "0                     NaN                    NaN                    NaN   \n",
       "1                     NaN                    NaN                    NaN   \n",
       "2                     NaN                    NaN                    NaN   \n",
       "3                     NaN                    NaN                    NaN   \n",
       "4                     NaN                    NaN                    NaN   \n",
       "\n",
       "  ZIEKENHUIS_AANTAL_BEDDEN ZWEMBAD_WATEROPPERVLAKTE  ZWEMBAD_SUBTROPISCH  \n",
       "0                      NaN                      NaN                  NaN  \n",
       "1                      NaN                      NaN                  NaN  \n",
       "2                      NaN                      NaN                  NaN  \n",
       "3                      NaN                      NaN                  NaN  \n",
       "4                      NaN                      NaN                  NaN  \n",
       "\n",
       "[5 rows x 41 columns]"
      ]
     },
     "execution_count": 377,
     "metadata": {},
     "output_type": "execute_result"
    }
   ],
   "source": [
    "df = pd.read_excel('EPC_Public.xlsx', sheetname='no_error')\n",
    "df.head()"
   ]
  },
  {
   "cell_type": "markdown",
   "metadata": {},
   "source": [
    "The variable 'Building_Age','Useful_Floor_Area' and 'EPC_Score' are important to the simulate future. \n",
    "so the analysis is mainly around these varaibles. \n",
    "\n",
    "Firstly, we want to get the clustering for dataset in each 'public_building_category'\n",
    "secondly, we want to try also the clustering of dataset in each 'public_building_type' .\n",
    "and then idealy, we want to construct the model for the public_building_categrory. \n"
   ]
  },
  {
   "cell_type": "markdown",
   "metadata": {},
   "source": [
    "Let's start with extract the useful data"
   ]
  },
  {
   "cell_type": "code",
   "execution_count": 378,
   "metadata": {},
   "outputs": [
    {
     "data": {
      "text/html": [
       "<div>\n",
       "<style scoped>\n",
       "    .dataframe tbody tr th:only-of-type {\n",
       "        vertical-align: middle;\n",
       "    }\n",
       "\n",
       "    .dataframe tbody tr th {\n",
       "        vertical-align: top;\n",
       "    }\n",
       "\n",
       "    .dataframe thead th {\n",
       "        text-align: right;\n",
       "    }\n",
       "</style>\n",
       "<table border=\"1\" class=\"dataframe\">\n",
       "  <thead>\n",
       "    <tr style=\"text-align: right;\">\n",
       "      <th></th>\n",
       "      <th>EPC_ID</th>\n",
       "      <th>Public_Building_Type</th>\n",
       "      <th>Public_Building_Category</th>\n",
       "      <th>Building_Age</th>\n",
       "      <th>Useful_Floor_Area [m2]</th>\n",
       "      <th>EPC_Score</th>\n",
       "    </tr>\n",
       "  </thead>\n",
       "  <tbody>\n",
       "    <tr>\n",
       "      <th>0</th>\n",
       "      <td>2</td>\n",
       "      <td>primary school</td>\n",
       "      <td>eductional buildings</td>\n",
       "      <td>66</td>\n",
       "      <td>1278.00</td>\n",
       "      <td>165.87</td>\n",
       "    </tr>\n",
       "    <tr>\n",
       "      <th>1</th>\n",
       "      <td>5</td>\n",
       "      <td>primary school</td>\n",
       "      <td>eductional buildings</td>\n",
       "      <td>22</td>\n",
       "      <td>1088.05</td>\n",
       "      <td>120.70</td>\n",
       "    </tr>\n",
       "    <tr>\n",
       "      <th>2</th>\n",
       "      <td>21</td>\n",
       "      <td>higher education and universities</td>\n",
       "      <td>eductional buildings</td>\n",
       "      <td>99</td>\n",
       "      <td>11178.00</td>\n",
       "      <td>409.14</td>\n",
       "    </tr>\n",
       "    <tr>\n",
       "      <th>3</th>\n",
       "      <td>22</td>\n",
       "      <td>higher education and universities</td>\n",
       "      <td>eductional buildings</td>\n",
       "      <td>99</td>\n",
       "      <td>4457.00</td>\n",
       "      <td>392.77</td>\n",
       "    </tr>\n",
       "    <tr>\n",
       "      <th>4</th>\n",
       "      <td>42</td>\n",
       "      <td>secondary school</td>\n",
       "      <td>eductional buildings</td>\n",
       "      <td>73</td>\n",
       "      <td>18424.10</td>\n",
       "      <td>123.78</td>\n",
       "    </tr>\n",
       "  </tbody>\n",
       "</table>\n",
       "</div>"
      ],
      "text/plain": [
       "   EPC_ID               Public_Building_Type Public_Building_Category  \\\n",
       "0       2                     primary school     eductional buildings   \n",
       "1       5                     primary school     eductional buildings   \n",
       "2      21  higher education and universities     eductional buildings   \n",
       "3      22  higher education and universities     eductional buildings   \n",
       "4      42                   secondary school     eductional buildings   \n",
       "\n",
       "   Building_Age  Useful_Floor_Area [m2]  EPC_Score  \n",
       "0            66                 1278.00     165.87  \n",
       "1            22                 1088.05     120.70  \n",
       "2            99                11178.00     409.14  \n",
       "3            99                 4457.00     392.77  \n",
       "4            73                18424.10     123.78  "
      ]
     },
     "execution_count": 378,
     "metadata": {},
     "output_type": "execute_result"
    }
   ],
   "source": [
    "data_use_o = df.loc[:,['EPC_ID','Public_Building_Type','Public_Building_Category','Building_Age','Useful_Floor_Area [m2]','EPC_Score']]\n",
    "data_use_o.head()\n"
   ]
  },
  {
   "cell_type": "code",
   "execution_count": null,
   "metadata": {},
   "outputs": [],
   "source": []
  },
  {
   "cell_type": "markdown",
   "metadata": {},
   "source": [
    "And overview some basic descriptions about the features in public_building_category and public_building_type. "
   ]
  },
  {
   "cell_type": "code",
   "execution_count": 689,
   "metadata": {},
   "outputs": [
    {
     "data": {
      "image/png": "[encoded data removed]",
      "text/plain": [
       "<Figure size 432x288 with 1 Axes>"
      ]
     },
     "metadata": {},
     "output_type": "display_data"
    }
   ],
   "source": [
    "re2 = data_use_o.groupby(['Public_Building_Category']).count()\n",
    "sizes = re2.loc[:,'EPC_ID']\n",
    "labels = re2.index.values\n",
    "\n",
    "fig1, ax1 = plt.subplots()\n",
    "ax1.pie(sizes, labels=labels,autopct='%1.1f%%',\n",
    "        shadow=True, startangle=90)\n",
    "ax1.axis('equal')  # Equal aspect ratio ensures that pie is drawn as a circle.\n",
    "plt.show()\n",
    "\n"
   ]
  },
  {
   "cell_type": "code",
   "execution_count": 695,
   "metadata": {},
   "outputs": [
    {
     "ename": "KeyError",
     "evalue": "\"None of [['eductional buildings']] are in the [columns]\"",
     "output_type": "error",
     "traceback": [
      "\u001b[0;31m---------------------------------------------------------------------------\u001b[0m",
      "\u001b[0;31mKeyError\u001b[0m                                  Traceback (most recent call last)",
      "\u001b[0;32m<ipython-input-695-bc93ad7c9b90>\u001b[0m in \u001b[0;36m<module>\u001b[0;34m()\u001b[0m\n\u001b[0;32m----> 1\u001b[0;31m \u001b[0mdata_use_o\u001b[0m\u001b[0;34m.\u001b[0m\u001b[0mloc\u001b[0m\u001b[0;34m[\u001b[0m\u001b[0;34m:\u001b[0m\u001b[0;34m,\u001b[0m\u001b[0;34m[\u001b[0m\u001b[0;34m'eductional buildings'\u001b[0m\u001b[0;34m]\u001b[0m\u001b[0;34m]\u001b[0m\u001b[0;34m\u001b[0m\u001b[0m\n\u001b[0m",
      "\u001b[0;32m/anaconda3/lib/python3.6/site-packages/pandas/core/indexing.py\u001b[0m in \u001b[0;36m__getitem__\u001b[0;34m(self, key)\u001b[0m\n\u001b[1;32m   1470\u001b[0m             \u001b[0;32mexcept\u001b[0m \u001b[0;34m(\u001b[0m\u001b[0mKeyError\u001b[0m\u001b[0;34m,\u001b[0m \u001b[0mIndexError\u001b[0m\u001b[0;34m)\u001b[0m\u001b[0;34m:\u001b[0m\u001b[0;34m\u001b[0m\u001b[0m\n\u001b[1;32m   1471\u001b[0m                 \u001b[0;32mpass\u001b[0m\u001b[0;34m\u001b[0m\u001b[0m\n\u001b[0;32m-> 1472\u001b[0;31m             \u001b[0;32mreturn\u001b[0m \u001b[0mself\u001b[0m\u001b[0;34m.\u001b[0m\u001b[0m_getitem_tuple\u001b[0m\u001b[0;34m(\u001b[0m\u001b[0mkey\u001b[0m\u001b[0;34m)\u001b[0m\u001b[0;34m\u001b[0m\u001b[0m\n\u001b[0m\u001b[1;32m   1473\u001b[0m         \u001b[0;32melse\u001b[0m\u001b[0;34m:\u001b[0m\u001b[0;34m\u001b[0m\u001b[0m\n\u001b[1;32m   1474\u001b[0m             \u001b[0;31m# we by definition only have the 0th axis\u001b[0m\u001b[0;34m\u001b[0m\u001b[0;34m\u001b[0m\u001b[0m\n",
      "\u001b[0;32m/anaconda3/lib/python3.6/site-packages/pandas/core/indexing.py\u001b[0m in \u001b[0;36m_getitem_tuple\u001b[0;34m(self, tup)\u001b[0m\n\u001b[1;32m    888\u001b[0m                 \u001b[0;32mcontinue\u001b[0m\u001b[0;34m\u001b[0m\u001b[0m\n\u001b[1;32m    889\u001b[0m \u001b[0;34m\u001b[0m\u001b[0m\n\u001b[0;32m--> 890\u001b[0;31m             \u001b[0mretval\u001b[0m \u001b[0;34m=\u001b[0m \u001b[0mgetattr\u001b[0m\u001b[0;34m(\u001b[0m\u001b[0mretval\u001b[0m\u001b[0;34m,\u001b[0m \u001b[0mself\u001b[0m\u001b[0;34m.\u001b[0m\u001b[0mname\u001b[0m\u001b[0;34m)\u001b[0m\u001b[0;34m.\u001b[0m\u001b[0m_getitem_axis\u001b[0m\u001b[0;34m(\u001b[0m\u001b[0mkey\u001b[0m\u001b[0;34m,\u001b[0m \u001b[0maxis\u001b[0m\u001b[0;34m=\u001b[0m\u001b[0mi\u001b[0m\u001b[0;34m)\u001b[0m\u001b[0;34m\u001b[0m\u001b[0m\n\u001b[0m\u001b[1;32m    891\u001b[0m \u001b[0;34m\u001b[0m\u001b[0m\n\u001b[1;32m    892\u001b[0m         \u001b[0;32mreturn\u001b[0m \u001b[0mretval\u001b[0m\u001b[0;34m\u001b[0m\u001b[0m\n",
      "\u001b[0;32m/anaconda3/lib/python3.6/site-packages/pandas/core/indexing.py\u001b[0m in \u001b[0;36m_getitem_axis\u001b[0;34m(self, key, axis)\u001b[0m\n\u001b[1;32m   1899\u001b[0m                     \u001b[0;32mraise\u001b[0m \u001b[0mValueError\u001b[0m\u001b[0;34m(\u001b[0m\u001b[0;34m'Cannot index with multidimensional key'\u001b[0m\u001b[0;34m)\u001b[0m\u001b[0;34m\u001b[0m\u001b[0m\n\u001b[1;32m   1900\u001b[0m \u001b[0;34m\u001b[0m\u001b[0m\n\u001b[0;32m-> 1901\u001b[0;31m                 \u001b[0;32mreturn\u001b[0m \u001b[0mself\u001b[0m\u001b[0;34m.\u001b[0m\u001b[0m_getitem_iterable\u001b[0m\u001b[0;34m(\u001b[0m\u001b[0mkey\u001b[0m\u001b[0;34m,\u001b[0m \u001b[0maxis\u001b[0m\u001b[0;34m=\u001b[0m\u001b[0maxis\u001b[0m\u001b[0;34m)\u001b[0m\u001b[0;34m\u001b[0m\u001b[0m\n\u001b[0m\u001b[1;32m   1902\u001b[0m \u001b[0;34m\u001b[0m\u001b[0m\n\u001b[1;32m   1903\u001b[0m             \u001b[0;31m# nested tuple slicing\u001b[0m\u001b[0;34m\u001b[0m\u001b[0;34m\u001b[0m\u001b[0m\n",
      "\u001b[0;32m/anaconda3/lib/python3.6/site-packages/pandas/core/indexing.py\u001b[0m in \u001b[0;36m_getitem_iterable\u001b[0;34m(self, key, axis)\u001b[0m\n\u001b[1;32m   1141\u001b[0m             \u001b[0;32mif\u001b[0m \u001b[0mlabels\u001b[0m\u001b[0;34m.\u001b[0m\u001b[0mis_unique\u001b[0m \u001b[0;32mand\u001b[0m \u001b[0mIndex\u001b[0m\u001b[0;34m(\u001b[0m\u001b[0mkeyarr\u001b[0m\u001b[0;34m)\u001b[0m\u001b[0;34m.\u001b[0m\u001b[0mis_unique\u001b[0m\u001b[0;34m:\u001b[0m\u001b[0;34m\u001b[0m\u001b[0m\n\u001b[1;32m   1142\u001b[0m                 \u001b[0mindexer\u001b[0m \u001b[0;34m=\u001b[0m \u001b[0max\u001b[0m\u001b[0;34m.\u001b[0m\u001b[0mget_indexer_for\u001b[0m\u001b[0;34m(\u001b[0m\u001b[0mkey\u001b[0m\u001b[0;34m)\u001b[0m\u001b[0;34m\u001b[0m\u001b[0m\n\u001b[0;32m-> 1143\u001b[0;31m                 \u001b[0mself\u001b[0m\u001b[0;34m.\u001b[0m\u001b[0m_validate_read_indexer\u001b[0m\u001b[0;34m(\u001b[0m\u001b[0mkey\u001b[0m\u001b[0;34m,\u001b[0m \u001b[0mindexer\u001b[0m\u001b[0;34m,\u001b[0m \u001b[0maxis\u001b[0m\u001b[0;34m)\u001b[0m\u001b[0;34m\u001b[0m\u001b[0m\n\u001b[0m\u001b[1;32m   1144\u001b[0m \u001b[0;34m\u001b[0m\u001b[0m\n\u001b[1;32m   1145\u001b[0m                 \u001b[0md\u001b[0m \u001b[0;34m=\u001b[0m \u001b[0;34m{\u001b[0m\u001b[0maxis\u001b[0m\u001b[0;34m:\u001b[0m \u001b[0;34m[\u001b[0m\u001b[0max\u001b[0m\u001b[0;34m.\u001b[0m\u001b[0mreindex\u001b[0m\u001b[0;34m(\u001b[0m\u001b[0mkeyarr\u001b[0m\u001b[0;34m)\u001b[0m\u001b[0;34m[\u001b[0m\u001b[0;36m0\u001b[0m\u001b[0;34m]\u001b[0m\u001b[0;34m,\u001b[0m \u001b[0mindexer\u001b[0m\u001b[0;34m]\u001b[0m\u001b[0;34m}\u001b[0m\u001b[0;34m\u001b[0m\u001b[0m\n",
      "\u001b[0;32m/anaconda3/lib/python3.6/site-packages/pandas/core/indexing.py\u001b[0m in \u001b[0;36m_validate_read_indexer\u001b[0;34m(self, key, indexer, axis)\u001b[0m\n\u001b[1;32m   1204\u001b[0m                 raise KeyError(\n\u001b[1;32m   1205\u001b[0m                     u\"None of [{key}] are in the [{axis}]\".format(\n\u001b[0;32m-> 1206\u001b[0;31m                         key=key, axis=self.obj._get_axis_name(axis)))\n\u001b[0m\u001b[1;32m   1207\u001b[0m \u001b[0;34m\u001b[0m\u001b[0m\n\u001b[1;32m   1208\u001b[0m             \u001b[0;31m# we skip the warning on Categorical/Interval\u001b[0m\u001b[0;34m\u001b[0m\u001b[0;34m\u001b[0m\u001b[0m\n",
      "\u001b[0;31mKeyError\u001b[0m: \"None of [['eductional buildings']] are in the [columns]\""
     ]
    }
   ],
   "source": [
    "data_use_o.loc[:,['eductional buildings']]"
   ]
  },
  {
   "cell_type": "code",
   "execution_count": null,
   "metadata": {},
   "outputs": [],
   "source": [
    "re = data_use_o.loc['eductional buildings'].groupby(['Public_Building_Type']).count()\n",
    "sizes = re.loc[:,'EPC_ID']\n",
    "labels = re.index.values\n",
    "\n",
    "fig1, ax1 = plt.subplots()\n",
    "ax1.pie(sizes, labels=labels,autopct='%1.1f%%',\n",
    "        shadow=True, startangle=90)\n",
    "ax1.axis('equal')  # Equal aspect ratio ensures that pie is drawn as a circle.\n",
    "plt.show()\n",
    "\n"
   ]
  },
  {
   "cell_type": "code",
   "execution_count": 379,
   "metadata": {},
   "outputs": [
    {
     "data": {
      "text/html": [
       "<div>\n",
       "<style scoped>\n",
       "    .dataframe tbody tr th:only-of-type {\n",
       "        vertical-align: middle;\n",
       "    }\n",
       "\n",
       "    .dataframe tbody tr th {\n",
       "        vertical-align: top;\n",
       "    }\n",
       "\n",
       "    .dataframe thead th {\n",
       "        text-align: right;\n",
       "    }\n",
       "</style>\n",
       "<table border=\"1\" class=\"dataframe\">\n",
       "  <thead>\n",
       "    <tr style=\"text-align: right;\">\n",
       "      <th></th>\n",
       "      <th>EPC_ID</th>\n",
       "      <th>Public_Building_Category</th>\n",
       "      <th>Building_Age</th>\n",
       "      <th>Useful_Floor_Area [m2]</th>\n",
       "      <th>EPC_Score</th>\n",
       "    </tr>\n",
       "    <tr>\n",
       "      <th>Public_Building_Type</th>\n",
       "      <th></th>\n",
       "      <th></th>\n",
       "      <th></th>\n",
       "      <th></th>\n",
       "      <th></th>\n",
       "    </tr>\n",
       "  </thead>\n",
       "  <tbody>\n",
       "    <tr>\n",
       "      <th>administrative building</th>\n",
       "      <td>1277</td>\n",
       "      <td>1277</td>\n",
       "      <td>1277</td>\n",
       "      <td>1277</td>\n",
       "      <td>1277</td>\n",
       "    </tr>\n",
       "    <tr>\n",
       "      <th>airport building</th>\n",
       "      <td>2</td>\n",
       "      <td>2</td>\n",
       "      <td>2</td>\n",
       "      <td>2</td>\n",
       "      <td>2</td>\n",
       "    </tr>\n",
       "    <tr>\n",
       "      <th>cultural or meeting building</th>\n",
       "      <td>1014</td>\n",
       "      <td>1014</td>\n",
       "      <td>1014</td>\n",
       "      <td>1014</td>\n",
       "      <td>1014</td>\n",
       "    </tr>\n",
       "    <tr>\n",
       "      <th>daycare and/or after school care</th>\n",
       "      <td>309</td>\n",
       "      <td>309</td>\n",
       "      <td>309</td>\n",
       "      <td>309</td>\n",
       "      <td>309</td>\n",
       "    </tr>\n",
       "    <tr>\n",
       "      <th>elderly home</th>\n",
       "      <td>571</td>\n",
       "      <td>571</td>\n",
       "      <td>571</td>\n",
       "      <td>571</td>\n",
       "      <td>571</td>\n",
       "    </tr>\n",
       "    <tr>\n",
       "      <th>higher education and universities</th>\n",
       "      <td>169</td>\n",
       "      <td>169</td>\n",
       "      <td>169</td>\n",
       "      <td>169</td>\n",
       "      <td>169</td>\n",
       "    </tr>\n",
       "    <tr>\n",
       "      <th>hospital</th>\n",
       "      <td>146</td>\n",
       "      <td>146</td>\n",
       "      <td>146</td>\n",
       "      <td>146</td>\n",
       "      <td>146</td>\n",
       "    </tr>\n",
       "    <tr>\n",
       "      <th>justice court</th>\n",
       "      <td>19</td>\n",
       "      <td>19</td>\n",
       "      <td>19</td>\n",
       "      <td>19</td>\n",
       "      <td>19</td>\n",
       "    </tr>\n",
       "    <tr>\n",
       "      <th>library</th>\n",
       "      <td>247</td>\n",
       "      <td>247</td>\n",
       "      <td>247</td>\n",
       "      <td>247</td>\n",
       "      <td>247</td>\n",
       "    </tr>\n",
       "    <tr>\n",
       "      <th>museum</th>\n",
       "      <td>129</td>\n",
       "      <td>129</td>\n",
       "      <td>129</td>\n",
       "      <td>129</td>\n",
       "      <td>129</td>\n",
       "    </tr>\n",
       "    <tr>\n",
       "      <th>other educational infrastructure</th>\n",
       "      <td>422</td>\n",
       "      <td>422</td>\n",
       "      <td>422</td>\n",
       "      <td>422</td>\n",
       "      <td>422</td>\n",
       "    </tr>\n",
       "    <tr>\n",
       "      <th>other welfare provision</th>\n",
       "      <td>475</td>\n",
       "      <td>475</td>\n",
       "      <td>475</td>\n",
       "      <td>475</td>\n",
       "      <td>475</td>\n",
       "    </tr>\n",
       "    <tr>\n",
       "      <th>police office</th>\n",
       "      <td>115</td>\n",
       "      <td>115</td>\n",
       "      <td>115</td>\n",
       "      <td>115</td>\n",
       "      <td>115</td>\n",
       "    </tr>\n",
       "    <tr>\n",
       "      <th>post office</th>\n",
       "      <td>283</td>\n",
       "      <td>283</td>\n",
       "      <td>283</td>\n",
       "      <td>283</td>\n",
       "      <td>283</td>\n",
       "    </tr>\n",
       "    <tr>\n",
       "      <th>pre-primary school</th>\n",
       "      <td>370</td>\n",
       "      <td>370</td>\n",
       "      <td>370</td>\n",
       "      <td>370</td>\n",
       "      <td>370</td>\n",
       "    </tr>\n",
       "    <tr>\n",
       "      <th>primary school</th>\n",
       "      <td>1996</td>\n",
       "      <td>1996</td>\n",
       "      <td>1996</td>\n",
       "      <td>1996</td>\n",
       "      <td>1996</td>\n",
       "    </tr>\n",
       "    <tr>\n",
       "      <th>secondary school</th>\n",
       "      <td>856</td>\n",
       "      <td>856</td>\n",
       "      <td>856</td>\n",
       "      <td>856</td>\n",
       "      <td>856</td>\n",
       "    </tr>\n",
       "    <tr>\n",
       "      <th>sports hall</th>\n",
       "      <td>544</td>\n",
       "      <td>544</td>\n",
       "      <td>544</td>\n",
       "      <td>544</td>\n",
       "      <td>544</td>\n",
       "    </tr>\n",
       "    <tr>\n",
       "      <th>sports hall with swimming pool</th>\n",
       "      <td>67</td>\n",
       "      <td>67</td>\n",
       "      <td>67</td>\n",
       "      <td>67</td>\n",
       "      <td>67</td>\n",
       "    </tr>\n",
       "    <tr>\n",
       "      <th>station building</th>\n",
       "      <td>53</td>\n",
       "      <td>53</td>\n",
       "      <td>53</td>\n",
       "      <td>53</td>\n",
       "      <td>53</td>\n",
       "    </tr>\n",
       "    <tr>\n",
       "      <th>swimming pool</th>\n",
       "      <td>87</td>\n",
       "      <td>87</td>\n",
       "      <td>87</td>\n",
       "      <td>87</td>\n",
       "      <td>87</td>\n",
       "    </tr>\n",
       "  </tbody>\n",
       "</table>\n",
       "</div>"
      ],
      "text/plain": [
       "                                   EPC_ID  Public_Building_Category  \\\n",
       "Public_Building_Type                                                  \n",
       "administrative building              1277                      1277   \n",
       "airport building                        2                         2   \n",
       "cultural or meeting building         1014                      1014   \n",
       "daycare and/or after school care      309                       309   \n",
       "elderly home                          571                       571   \n",
       "higher education and universities     169                       169   \n",
       "hospital                              146                       146   \n",
       "justice court                          19                        19   \n",
       "library                               247                       247   \n",
       "museum                                129                       129   \n",
       "other educational infrastructure      422                       422   \n",
       "other welfare provision               475                       475   \n",
       "police office                         115                       115   \n",
       "post office                           283                       283   \n",
       "pre-primary school                    370                       370   \n",
       "primary school                       1996                      1996   \n",
       "secondary school                      856                       856   \n",
       "sports hall                           544                       544   \n",
       "sports hall with swimming pool         67                        67   \n",
       "station building                       53                        53   \n",
       "swimming pool                          87                        87   \n",
       "\n",
       "                                   Building_Age  Useful_Floor_Area [m2]  \\\n",
       "Public_Building_Type                                                      \n",
       "administrative building                    1277                    1277   \n",
       "airport building                              2                       2   \n",
       "cultural or meeting building               1014                    1014   \n",
       "daycare and/or after school care            309                     309   \n",
       "elderly home                                571                     571   \n",
       "higher education and universities           169                     169   \n",
       "hospital                                    146                     146   \n",
       "justice court                                19                      19   \n",
       "library                                     247                     247   \n",
       "museum                                      129                     129   \n",
       "other educational infrastructure            422                     422   \n",
       "other welfare provision                     475                     475   \n",
       "police office                               115                     115   \n",
       "post office                                 283                     283   \n",
       "pre-primary school                          370                     370   \n",
       "primary school                             1996                    1996   \n",
       "secondary school                            856                     856   \n",
       "sports hall                                 544                     544   \n",
       "sports hall with swimming pool               67                      67   \n",
       "station building                             53                      53   \n",
       "swimming pool                                87                      87   \n",
       "\n",
       "                                   EPC_Score  \n",
       "Public_Building_Type                          \n",
       "administrative building                 1277  \n",
       "airport building                           2  \n",
       "cultural or meeting building            1014  \n",
       "daycare and/or after school care         309  \n",
       "elderly home                             571  \n",
       "higher education and universities        169  \n",
       "hospital                                 146  \n",
       "justice court                             19  \n",
       "library                                  247  \n",
       "museum                                   129  \n",
       "other educational infrastructure         422  \n",
       "other welfare provision                  475  \n",
       "police office                            115  \n",
       "post office                              283  \n",
       "pre-primary school                       370  \n",
       "primary school                          1996  \n",
       "secondary school                         856  \n",
       "sports hall                              544  \n",
       "sports hall with swimming pool            67  \n",
       "station building                          53  \n",
       "swimming pool                             87  "
      ]
     },
     "execution_count": 379,
     "metadata": {},
     "output_type": "execute_result"
    }
   ],
   "source": [
    "# public_building_type\n",
    "data_use_o.groupby(['Public_Building_Type']).count()"
   ]
  },
  {
   "cell_type": "code",
   "execution_count": 380,
   "metadata": {},
   "outputs": [
    {
     "data": {
      "text/html": [
       "<div>\n",
       "<style scoped>\n",
       "    .dataframe tbody tr th:only-of-type {\n",
       "        vertical-align: middle;\n",
       "    }\n",
       "\n",
       "    .dataframe tbody tr th {\n",
       "        vertical-align: top;\n",
       "    }\n",
       "\n",
       "    .dataframe thead th {\n",
       "        text-align: right;\n",
       "    }\n",
       "</style>\n",
       "<table border=\"1\" class=\"dataframe\">\n",
       "  <thead>\n",
       "    <tr style=\"text-align: right;\">\n",
       "      <th></th>\n",
       "      <th>EPC_ID</th>\n",
       "      <th>Public_Building_Type</th>\n",
       "      <th>Building_Age</th>\n",
       "      <th>Useful_Floor_Area [m2]</th>\n",
       "      <th>EPC_Score</th>\n",
       "    </tr>\n",
       "    <tr>\n",
       "      <th>Public_Building_Category</th>\n",
       "      <th></th>\n",
       "      <th></th>\n",
       "      <th></th>\n",
       "      <th></th>\n",
       "      <th></th>\n",
       "    </tr>\n",
       "  </thead>\n",
       "  <tbody>\n",
       "    <tr>\n",
       "      <th>cultural buildings</th>\n",
       "      <td>1390</td>\n",
       "      <td>1390</td>\n",
       "      <td>1390</td>\n",
       "      <td>1390</td>\n",
       "      <td>1390</td>\n",
       "    </tr>\n",
       "    <tr>\n",
       "      <th>eductional buildings</th>\n",
       "      <td>4122</td>\n",
       "      <td>4122</td>\n",
       "      <td>4122</td>\n",
       "      <td>4122</td>\n",
       "      <td>4122</td>\n",
       "    </tr>\n",
       "    <tr>\n",
       "      <th>healthcare buildings</th>\n",
       "      <td>1192</td>\n",
       "      <td>1192</td>\n",
       "      <td>1192</td>\n",
       "      <td>1192</td>\n",
       "      <td>1192</td>\n",
       "    </tr>\n",
       "    <tr>\n",
       "      <th>office buildings</th>\n",
       "      <td>1277</td>\n",
       "      <td>1277</td>\n",
       "      <td>1277</td>\n",
       "      <td>1277</td>\n",
       "      <td>1277</td>\n",
       "    </tr>\n",
       "    <tr>\n",
       "      <th>public service buildings</th>\n",
       "      <td>472</td>\n",
       "      <td>472</td>\n",
       "      <td>472</td>\n",
       "      <td>472</td>\n",
       "      <td>472</td>\n",
       "    </tr>\n",
       "    <tr>\n",
       "      <th>sports buildings</th>\n",
       "      <td>698</td>\n",
       "      <td>698</td>\n",
       "      <td>698</td>\n",
       "      <td>698</td>\n",
       "      <td>698</td>\n",
       "    </tr>\n",
       "  </tbody>\n",
       "</table>\n",
       "</div>"
      ],
      "text/plain": [
       "                          EPC_ID  Public_Building_Type  Building_Age  \\\n",
       "Public_Building_Category                                               \n",
       "cultural buildings          1390                  1390          1390   \n",
       "eductional buildings        4122                  4122          4122   \n",
       "healthcare buildings        1192                  1192          1192   \n",
       "office buildings            1277                  1277          1277   \n",
       "public service buildings     472                   472           472   \n",
       "sports buildings             698                   698           698   \n",
       "\n",
       "                          Useful_Floor_Area [m2]  EPC_Score  \n",
       "Public_Building_Category                                     \n",
       "cultural buildings                          1390       1390  \n",
       "eductional buildings                        4122       4122  \n",
       "healthcare buildings                        1192       1192  \n",
       "office buildings                            1277       1277  \n",
       "public service buildings                     472        472  \n",
       "sports buildings                             698        698  "
      ]
     },
     "execution_count": 380,
     "metadata": {},
     "output_type": "execute_result"
    }
   ],
   "source": [
    "# public_building_category\n",
    "data_use_o.groupby(['Public_Building_Category']).count()"
   ]
  },
  {
   "cell_type": "code",
   "execution_count": 381,
   "metadata": {},
   "outputs": [
    {
     "data": {
      "text/html": [
       "<div>\n",
       "<style scoped>\n",
       "    .dataframe tbody tr th:only-of-type {\n",
       "        vertical-align: middle;\n",
       "    }\n",
       "\n",
       "    .dataframe tbody tr th {\n",
       "        vertical-align: top;\n",
       "    }\n",
       "\n",
       "    .dataframe thead th {\n",
       "        text-align: right;\n",
       "    }\n",
       "</style>\n",
       "<table border=\"1\" class=\"dataframe\">\n",
       "  <thead>\n",
       "    <tr style=\"text-align: right;\">\n",
       "      <th></th>\n",
       "      <th>EPC_ID</th>\n",
       "      <th>Public_Building_Category</th>\n",
       "      <th>Building_Age</th>\n",
       "      <th>Useful_Floor_Area [m2]</th>\n",
       "      <th>EPC_Score</th>\n",
       "    </tr>\n",
       "    <tr>\n",
       "      <th>Public_Building_Type</th>\n",
       "      <th></th>\n",
       "      <th></th>\n",
       "      <th></th>\n",
       "      <th></th>\n",
       "      <th></th>\n",
       "    </tr>\n",
       "  </thead>\n",
       "  <tbody>\n",
       "    <tr>\n",
       "      <th>daycare and/or after school care</th>\n",
       "      <td>309</td>\n",
       "      <td>309</td>\n",
       "      <td>309</td>\n",
       "      <td>309</td>\n",
       "      <td>309</td>\n",
       "    </tr>\n",
       "    <tr>\n",
       "      <th>higher education and universities</th>\n",
       "      <td>169</td>\n",
       "      <td>169</td>\n",
       "      <td>169</td>\n",
       "      <td>169</td>\n",
       "      <td>169</td>\n",
       "    </tr>\n",
       "    <tr>\n",
       "      <th>other educational infrastructure</th>\n",
       "      <td>422</td>\n",
       "      <td>422</td>\n",
       "      <td>422</td>\n",
       "      <td>422</td>\n",
       "      <td>422</td>\n",
       "    </tr>\n",
       "    <tr>\n",
       "      <th>pre-primary school</th>\n",
       "      <td>370</td>\n",
       "      <td>370</td>\n",
       "      <td>370</td>\n",
       "      <td>370</td>\n",
       "      <td>370</td>\n",
       "    </tr>\n",
       "    <tr>\n",
       "      <th>primary school</th>\n",
       "      <td>1996</td>\n",
       "      <td>1996</td>\n",
       "      <td>1996</td>\n",
       "      <td>1996</td>\n",
       "      <td>1996</td>\n",
       "    </tr>\n",
       "    <tr>\n",
       "      <th>secondary school</th>\n",
       "      <td>856</td>\n",
       "      <td>856</td>\n",
       "      <td>856</td>\n",
       "      <td>856</td>\n",
       "      <td>856</td>\n",
       "    </tr>\n",
       "  </tbody>\n",
       "</table>\n",
       "</div>"
      ],
      "text/plain": [
       "                                   EPC_ID  Public_Building_Category  \\\n",
       "Public_Building_Type                                                  \n",
       "daycare and/or after school care      309                       309   \n",
       "higher education and universities     169                       169   \n",
       "other educational infrastructure      422                       422   \n",
       "pre-primary school                    370                       370   \n",
       "primary school                       1996                      1996   \n",
       "secondary school                      856                       856   \n",
       "\n",
       "                                   Building_Age  Useful_Floor_Area [m2]  \\\n",
       "Public_Building_Type                                                      \n",
       "daycare and/or after school care            309                     309   \n",
       "higher education and universities           169                     169   \n",
       "other educational infrastructure            422                     422   \n",
       "pre-primary school                          370                     370   \n",
       "primary school                             1996                    1996   \n",
       "secondary school                            856                     856   \n",
       "\n",
       "                                   EPC_Score  \n",
       "Public_Building_Type                          \n",
       "daycare and/or after school care         309  \n",
       "higher education and universities        169  \n",
       "other educational infrastructure         422  \n",
       "pre-primary school                       370  \n",
       "primary school                          1996  \n",
       "secondary school                         856  "
      ]
     },
     "execution_count": 381,
     "metadata": {},
     "output_type": "execute_result"
    }
   ],
   "source": [
    "data_use_o.loc[data_use_o['Public_Building_Category']=='eductional buildings',:].groupby(['Public_Building_Type']).count()"
   ]
  },
  {
   "cell_type": "code",
   "execution_count": 382,
   "metadata": {},
   "outputs": [
    {
     "data": {
      "text/plain": [
       "EPC_ID                      NaN\n",
       "Public_Building_Type         21\n",
       "Public_Building_Category      6\n",
       "Building_Age                NaN\n",
       "Useful_Floor_Area [m2]      NaN\n",
       "EPC_Score                   NaN\n",
       "Name: unique, dtype: object"
      ]
     },
     "execution_count": 382,
     "metadata": {},
     "output_type": "execute_result"
    }
   ],
   "source": [
    "data_use_o.describe()\n",
    "data_use_o.describe(include='all').loc['unique', :]"
   ]
  },
  {
   "cell_type": "markdown",
   "metadata": {},
   "source": [
    "### using 'type' or 'category'  data "
   ]
  },
  {
   "cell_type": "code",
   "execution_count": 622,
   "metadata": {
    "scrolled": true
   },
   "outputs": [
    {
     "data": {
      "text/html": [
       "<div>\n",
       "<style scoped>\n",
       "    .dataframe tbody tr th:only-of-type {\n",
       "        vertical-align: middle;\n",
       "    }\n",
       "\n",
       "    .dataframe tbody tr th {\n",
       "        vertical-align: top;\n",
       "    }\n",
       "\n",
       "    .dataframe thead th {\n",
       "        text-align: right;\n",
       "    }\n",
       "</style>\n",
       "<table border=\"1\" class=\"dataframe\">\n",
       "  <thead>\n",
       "    <tr style=\"text-align: right;\">\n",
       "      <th></th>\n",
       "      <th>Building_Age</th>\n",
       "      <th>Useful_Floor_Area [m2]</th>\n",
       "      <th>EPC_Score</th>\n",
       "    </tr>\n",
       "  </thead>\n",
       "  <tbody>\n",
       "    <tr>\n",
       "      <th>0</th>\n",
       "      <td>66</td>\n",
       "      <td>1278.00</td>\n",
       "      <td>165.87</td>\n",
       "    </tr>\n",
       "    <tr>\n",
       "      <th>1</th>\n",
       "      <td>22</td>\n",
       "      <td>1088.05</td>\n",
       "      <td>120.70</td>\n",
       "    </tr>\n",
       "    <tr>\n",
       "      <th>31</th>\n",
       "      <td>59</td>\n",
       "      <td>1785.00</td>\n",
       "      <td>108.26</td>\n",
       "    </tr>\n",
       "    <tr>\n",
       "      <th>32</th>\n",
       "      <td>50</td>\n",
       "      <td>1465.00</td>\n",
       "      <td>142.60</td>\n",
       "    </tr>\n",
       "    <tr>\n",
       "      <th>43</th>\n",
       "      <td>69</td>\n",
       "      <td>3915.40</td>\n",
       "      <td>163.63</td>\n",
       "    </tr>\n",
       "  </tbody>\n",
       "</table>\n",
       "</div>"
      ],
      "text/plain": [
       "    Building_Age  Useful_Floor_Area [m2]  EPC_Score\n",
       "0             66                 1278.00     165.87\n",
       "1             22                 1088.05     120.70\n",
       "31            59                 1785.00     108.26\n",
       "32            50                 1465.00     142.60\n",
       "43            69                 3915.40     163.63"
      ]
     },
     "execution_count": 622,
     "metadata": {},
     "output_type": "execute_result"
    }
   ],
   "source": [
    "f1 = 'Public_Building_Type' #'Public_Building_Category'\n",
    "value = 'primary school'\n",
    "data_selected = data_use_o.loc[data_use_o[f1]== value,['Building_Age','Useful_Floor_Area [m2]','EPC_Score']]\n",
    "#sports buildings,office buildings,educational buildings,\n",
    "#cultural buildings,healthcare buildings(4),public service buildings(2)\n",
    "data_selected.head()"
   ]
  },
  {
   "cell_type": "markdown",
   "metadata": {},
   "source": [
    "extract the educational buildings data from original category data "
   ]
  },
  {
   "cell_type": "code",
   "execution_count": 624,
   "metadata": {},
   "outputs": [
    {
     "data": {
      "text/plain": [
       "Building_Age              1996\n",
       "Useful_Floor_Area [m2]    1996\n",
       "EPC_Score                 1996\n",
       "dtype: int64"
      ]
     },
     "execution_count": 624,
     "metadata": {},
     "output_type": "execute_result"
    }
   ],
   "source": [
    "data_selected.count()\n"
   ]
  },
  {
   "cell_type": "markdown",
   "metadata": {},
   "source": [
    "### data for model"
   ]
  },
  {
   "cell_type": "code",
   "execution_count": 625,
   "metadata": {},
   "outputs": [],
   "source": [
    "data_for_model_o = data_selected"
   ]
  },
  {
   "cell_type": "markdown",
   "metadata": {},
   "source": [
    "let's see the distribution of each variable just for the category education buildings from original data"
   ]
  },
  {
   "cell_type": "code",
   "execution_count": 626,
   "metadata": {},
   "outputs": [
    {
     "data": {
      "text/html": [
       "<div>\n",
       "<style scoped>\n",
       "    .dataframe tbody tr th:only-of-type {\n",
       "        vertical-align: middle;\n",
       "    }\n",
       "\n",
       "    .dataframe tbody tr th {\n",
       "        vertical-align: top;\n",
       "    }\n",
       "\n",
       "    .dataframe thead th {\n",
       "        text-align: right;\n",
       "    }\n",
       "</style>\n",
       "<table border=\"1\" class=\"dataframe\">\n",
       "  <thead>\n",
       "    <tr style=\"text-align: right;\">\n",
       "      <th></th>\n",
       "      <th>Building_Age</th>\n",
       "      <th>Useful_Floor_Area [m2]</th>\n",
       "      <th>EPC_Score</th>\n",
       "    </tr>\n",
       "  </thead>\n",
       "  <tbody>\n",
       "    <tr>\n",
       "      <th>count</th>\n",
       "      <td>1996.000000</td>\n",
       "      <td>1996.000000</td>\n",
       "      <td>1996.000000</td>\n",
       "    </tr>\n",
       "    <tr>\n",
       "      <th>mean</th>\n",
       "      <td>74.781563</td>\n",
       "      <td>2192.171663</td>\n",
       "      <td>172.312720</td>\n",
       "    </tr>\n",
       "    <tr>\n",
       "      <th>std</th>\n",
       "      <td>44.196943</td>\n",
       "      <td>1714.610576</td>\n",
       "      <td>139.197402</td>\n",
       "    </tr>\n",
       "    <tr>\n",
       "      <th>min</th>\n",
       "      <td>5.000000</td>\n",
       "      <td>152.000000</td>\n",
       "      <td>10.430000</td>\n",
       "    </tr>\n",
       "    <tr>\n",
       "      <th>25%</th>\n",
       "      <td>50.000000</td>\n",
       "      <td>1212.750000</td>\n",
       "      <td>117.812500</td>\n",
       "    </tr>\n",
       "    <tr>\n",
       "      <th>50%</th>\n",
       "      <td>65.500000</td>\n",
       "      <td>1811.500000</td>\n",
       "      <td>152.450000</td>\n",
       "    </tr>\n",
       "    <tr>\n",
       "      <th>75%</th>\n",
       "      <td>96.000000</td>\n",
       "      <td>2617.500000</td>\n",
       "      <td>198.875000</td>\n",
       "    </tr>\n",
       "    <tr>\n",
       "      <th>max</th>\n",
       "      <td>908.000000</td>\n",
       "      <td>20897.000000</td>\n",
       "      <td>4931.710000</td>\n",
       "    </tr>\n",
       "  </tbody>\n",
       "</table>\n",
       "</div>"
      ],
      "text/plain": [
       "       Building_Age  Useful_Floor_Area [m2]    EPC_Score\n",
       "count   1996.000000             1996.000000  1996.000000\n",
       "mean      74.781563             2192.171663   172.312720\n",
       "std       44.196943             1714.610576   139.197402\n",
       "min        5.000000              152.000000    10.430000\n",
       "25%       50.000000             1212.750000   117.812500\n",
       "50%       65.500000             1811.500000   152.450000\n",
       "75%       96.000000             2617.500000   198.875000\n",
       "max      908.000000            20897.000000  4931.710000"
      ]
     },
     "execution_count": 626,
     "metadata": {},
     "output_type": "execute_result"
    }
   ],
   "source": [
    "data_for_model_o.describe()"
   ]
  },
  {
   "cell_type": "code",
   "execution_count": 627,
   "metadata": {},
   "outputs": [
    {
     "data": {
      "text/plain": [
       "<matplotlib.axes._subplots.AxesSubplot at 0x1a2dcb2048>"
      ]
     },
     "execution_count": 627,
     "metadata": {},
     "output_type": "execute_result"
    },
    {
     "data": {
      "image/png": "[encoded data removed]",
      "text/plain": [
       "<Figure size 432x288 with 1 Axes>"
      ]
     },
     "metadata": {},
     "output_type": "display_data"
    }
   ],
   "source": [
    "#pd.options.display.mpl_style = 'default'\n",
    "data_for_model_o.boxplot()\n",
    "#plt.title(\"Education building original data\")"
   ]
  },
  {
   "cell_type": "code",
   "execution_count": 628,
   "metadata": {},
   "outputs": [
    {
     "data": {
      "text/plain": [
       "array([[<matplotlib.axes._subplots.AxesSubplot object at 0x1a2dabda90>,\n",
       "        <matplotlib.axes._subplots.AxesSubplot object at 0x1a2dafd198>],\n",
       "       [<matplotlib.axes._subplots.AxesSubplot object at 0x1a2dcb47f0>,\n",
       "        <matplotlib.axes._subplots.AxesSubplot object at 0x1a2e100d30>]],\n",
       "      dtype=object)"
      ]
     },
     "execution_count": 628,
     "metadata": {},
     "output_type": "execute_result"
    },
    {
     "data": {
      "image/png": "[encoded data removed]",
      "text/plain": [
       "<Figure size 432x288 with 4 Axes>"
      ]
     },
     "metadata": {},
     "output_type": "display_data"
    }
   ],
   "source": [
    "data_for_model_o.hist()"
   ]
  },
  {
   "cell_type": "markdown",
   "metadata": {},
   "source": [
    "## preprocessing dataset"
   ]
  },
  {
   "cell_type": "markdown",
   "metadata": {},
   "source": [
    "### standard data processing"
   ]
  },
  {
   "cell_type": "markdown",
   "metadata": {},
   "source": [
    "In the business world, \"normalization\" typically means that the range of values are \"normalized to be from 0.0 to 1.0\".\n",
    "𝑋𝑐ℎ𝑎𝑛𝑔𝑒𝑑=𝑋−𝑋𝑚𝑖𝑛/𝑋𝑚𝑎𝑥−𝑋𝑚𝑖𝑛\n",
    "\n",
    "\"Standardization\" typically means that the range of values are \"standardized\" to measure how many standard deviations the value is from its mean.\n",
    "𝑋𝑐ℎ𝑎𝑛𝑔𝑒𝑑=𝑋−𝜇/𝜎\n",
    "\n",
    "For example, some data mining techniques use the Euclidean distance. Therefore, all parameters should have the same scale for a fair comparison between them.\n",
    "\n",
    "Two methods are usually well known for rescaling data. Normalization, which scales all numeric variables in the range [0,1]. \n",
    "On the other hand, you can use standardization on your data set. It will then transform it to have zero mean and unit variance, for example using the equation below:\n",
    "Both of these techniques have their drawbacks. If you have outliers in your data set, normalizing your data will certainly scale the “normal” data to a very small interval. And generally, most of data sets have outliers. When using standardization, your new data aren’t bounded (unlike normalization)."
   ]
  },
  {
   "cell_type": "markdown",
   "metadata": {},
   "source": [
    "#### standardization dataset "
   ]
  },
  {
   "cell_type": "markdown",
   "metadata": {},
   "source": [
    "In library sklearn of python, there are two methods that is usually used in rescaling for 'standardization'data:\n",
    "<br> *preprocessing.sclae，is just a function which transforms some data\n",
    "<br> *preprocessing.StandardScaler().fit_transform，is a class supporting the Transformer API"
   ]
  },
  {
   "cell_type": "markdown",
   "metadata": {},
   "source": [
    "let's begining with the comparaison of these two methods. "
   ]
  },
  {
   "cell_type": "markdown",
   "metadata": {},
   "source": [
    "##### preprocessing.scale() for standardizing the dataset"
   ]
  },
  {
   "cell_type": "markdown",
   "metadata": {},
   "source": [
    "overview the result of rescaling dataset by the preprocessing.scale() method"
   ]
  },
  {
   "cell_type": "code",
   "execution_count": 629,
   "metadata": {},
   "outputs": [
    {
     "data": {
      "text/html": [
       "<div>\n",
       "<style scoped>\n",
       "    .dataframe tbody tr th:only-of-type {\n",
       "        vertical-align: middle;\n",
       "    }\n",
       "\n",
       "    .dataframe tbody tr th {\n",
       "        vertical-align: top;\n",
       "    }\n",
       "\n",
       "    .dataframe thead th {\n",
       "        text-align: right;\n",
       "    }\n",
       "</style>\n",
       "<table border=\"1\" class=\"dataframe\">\n",
       "  <thead>\n",
       "    <tr style=\"text-align: right;\">\n",
       "      <th></th>\n",
       "      <th>Building_Age_norm</th>\n",
       "      <th>Useful_Floor_Area [m2]_norm</th>\n",
       "      <th>EPC_Score_norm</th>\n",
       "    </tr>\n",
       "  </thead>\n",
       "  <tbody>\n",
       "    <tr>\n",
       "      <th>0</th>\n",
       "      <td>-0.198741</td>\n",
       "      <td>-0.533299</td>\n",
       "      <td>-0.046296</td>\n",
       "    </tr>\n",
       "    <tr>\n",
       "      <th>1</th>\n",
       "      <td>-1.194535</td>\n",
       "      <td>-0.644110</td>\n",
       "      <td>-0.370881</td>\n",
       "    </tr>\n",
       "    <tr>\n",
       "      <th>2</th>\n",
       "      <td>-0.357163</td>\n",
       "      <td>-0.237531</td>\n",
       "      <td>-0.460273</td>\n",
       "    </tr>\n",
       "    <tr>\n",
       "      <th>3</th>\n",
       "      <td>-0.560848</td>\n",
       "      <td>-0.424209</td>\n",
       "      <td>-0.213511</td>\n",
       "    </tr>\n",
       "    <tr>\n",
       "      <th>4</th>\n",
       "      <td>-0.130846</td>\n",
       "      <td>1.005278</td>\n",
       "      <td>-0.062393</td>\n",
       "    </tr>\n",
       "  </tbody>\n",
       "</table>\n",
       "</div>"
      ],
      "text/plain": [
       "   Building_Age_norm  Useful_Floor_Area [m2]_norm  EPC_Score_norm\n",
       "0          -0.198741                    -0.533299       -0.046296\n",
       "1          -1.194535                    -0.644110       -0.370881\n",
       "2          -0.357163                    -0.237531       -0.460273\n",
       "3          -0.560848                    -0.424209       -0.213511\n",
       "4          -0.130846                     1.005278       -0.062393"
      ]
     },
     "execution_count": 629,
     "metadata": {},
     "output_type": "execute_result"
    }
   ],
   "source": [
    "# call the method preprocessing.scale() for standardizing the dataset\n",
    "from sklearn import preprocessing\n",
    "data_for_model_norm = pd.DataFrame(preprocessing.scale(data_for_model_o))\n",
    "#data_o_category_edu_norm = (data_o_category_edu - data_o_category_edu.min()) / (data_o_category_edu.max() - data_o_category_edu.min())\n",
    "data_for_model_norm.columns = data_for_model_o.columns  + '_norm'\n",
    "data_for_model_norm.head()"
   ]
  },
  {
   "cell_type": "code",
   "execution_count": 630,
   "metadata": {},
   "outputs": [
    {
     "data": {
      "text/html": [
       "<div>\n",
       "<style scoped>\n",
       "    .dataframe tbody tr th:only-of-type {\n",
       "        vertical-align: middle;\n",
       "    }\n",
       "\n",
       "    .dataframe tbody tr th {\n",
       "        vertical-align: top;\n",
       "    }\n",
       "\n",
       "    .dataframe thead th {\n",
       "        text-align: right;\n",
       "    }\n",
       "</style>\n",
       "<table border=\"1\" class=\"dataframe\">\n",
       "  <thead>\n",
       "    <tr style=\"text-align: right;\">\n",
       "      <th></th>\n",
       "      <th>Building_Age_norm</th>\n",
       "      <th>Useful_Floor_Area [m2]_norm</th>\n",
       "      <th>EPC_Score_norm</th>\n",
       "    </tr>\n",
       "  </thead>\n",
       "  <tbody>\n",
       "    <tr>\n",
       "      <th>count</th>\n",
       "      <td>1.996000e+03</td>\n",
       "      <td>1.996000e+03</td>\n",
       "      <td>1.996000e+03</td>\n",
       "    </tr>\n",
       "    <tr>\n",
       "      <th>mean</th>\n",
       "      <td>4.177242e-17</td>\n",
       "      <td>-3.255301e-16</td>\n",
       "      <td>-8.212647e-17</td>\n",
       "    </tr>\n",
       "    <tr>\n",
       "      <th>std</th>\n",
       "      <td>1.000251e+00</td>\n",
       "      <td>1.000251e+00</td>\n",
       "      <td>1.000251e+00</td>\n",
       "    </tr>\n",
       "    <tr>\n",
       "      <th>min</th>\n",
       "      <td>-1.579273e+00</td>\n",
       "      <td>-1.190173e+00</td>\n",
       "      <td>-1.163264e+00</td>\n",
       "    </tr>\n",
       "    <tr>\n",
       "      <th>25%</th>\n",
       "      <td>-5.608481e-01</td>\n",
       "      <td>-5.713642e-01</td>\n",
       "      <td>-3.916300e-01</td>\n",
       "    </tr>\n",
       "    <tr>\n",
       "      <th>50%</th>\n",
       "      <td>-2.100573e-01</td>\n",
       "      <td>-2.220720e-01</td>\n",
       "      <td>-1.427304e-01</td>\n",
       "    </tr>\n",
       "    <tr>\n",
       "      <th>75%</th>\n",
       "      <td>4.802086e-01</td>\n",
       "      <td>2.481234e-01</td>\n",
       "      <td>1.908724e-01</td>\n",
       "    </tr>\n",
       "    <tr>\n",
       "      <th>max</th>\n",
       "      <td>1.885712e+01</td>\n",
       "      <td>1.091182e+01</td>\n",
       "      <td>3.420028e+01</td>\n",
       "    </tr>\n",
       "  </tbody>\n",
       "</table>\n",
       "</div>"
      ],
      "text/plain": [
       "       Building_Age_norm  Useful_Floor_Area [m2]_norm  EPC_Score_norm\n",
       "count       1.996000e+03                 1.996000e+03    1.996000e+03\n",
       "mean        4.177242e-17                -3.255301e-16   -8.212647e-17\n",
       "std         1.000251e+00                 1.000251e+00    1.000251e+00\n",
       "min        -1.579273e+00                -1.190173e+00   -1.163264e+00\n",
       "25%        -5.608481e-01                -5.713642e-01   -3.916300e-01\n",
       "50%        -2.100573e-01                -2.220720e-01   -1.427304e-01\n",
       "75%         4.802086e-01                 2.481234e-01    1.908724e-01\n",
       "max         1.885712e+01                 1.091182e+01    3.420028e+01"
      ]
     },
     "execution_count": 630,
     "metadata": {},
     "output_type": "execute_result"
    }
   ],
   "source": [
    "data_for_model_norm.describe()"
   ]
  },
  {
   "cell_type": "markdown",
   "metadata": {},
   "source": [
    "##### preprocessing.StandardScaler() for standardizing the dataset"
   ]
  },
  {
   "cell_type": "markdown",
   "metadata": {},
   "source": [
    "overview the result of rescaling dataset by the preprocessing.StandardScaler() method"
   ]
  },
  {
   "cell_type": "code",
   "execution_count": 631,
   "metadata": {},
   "outputs": [
    {
     "data": {
      "text/html": [
       "<div>\n",
       "<style scoped>\n",
       "    .dataframe tbody tr th:only-of-type {\n",
       "        vertical-align: middle;\n",
       "    }\n",
       "\n",
       "    .dataframe tbody tr th {\n",
       "        vertical-align: top;\n",
       "    }\n",
       "\n",
       "    .dataframe thead th {\n",
       "        text-align: right;\n",
       "    }\n",
       "</style>\n",
       "<table border=\"1\" class=\"dataframe\">\n",
       "  <thead>\n",
       "    <tr style=\"text-align: right;\">\n",
       "      <th></th>\n",
       "      <th>Building_Age_norm2</th>\n",
       "      <th>Useful_Floor_Area [m2]_norm2</th>\n",
       "      <th>EPC_Score_norm2</th>\n",
       "    </tr>\n",
       "  </thead>\n",
       "  <tbody>\n",
       "    <tr>\n",
       "      <th>0</th>\n",
       "      <td>-0.198741</td>\n",
       "      <td>-0.533299</td>\n",
       "      <td>-0.046296</td>\n",
       "    </tr>\n",
       "    <tr>\n",
       "      <th>1</th>\n",
       "      <td>-1.194535</td>\n",
       "      <td>-0.644110</td>\n",
       "      <td>-0.370881</td>\n",
       "    </tr>\n",
       "    <tr>\n",
       "      <th>2</th>\n",
       "      <td>-0.357163</td>\n",
       "      <td>-0.237531</td>\n",
       "      <td>-0.460273</td>\n",
       "    </tr>\n",
       "    <tr>\n",
       "      <th>3</th>\n",
       "      <td>-0.560848</td>\n",
       "      <td>-0.424209</td>\n",
       "      <td>-0.213511</td>\n",
       "    </tr>\n",
       "    <tr>\n",
       "      <th>4</th>\n",
       "      <td>-0.130846</td>\n",
       "      <td>1.005278</td>\n",
       "      <td>-0.062393</td>\n",
       "    </tr>\n",
       "  </tbody>\n",
       "</table>\n",
       "</div>"
      ],
      "text/plain": [
       "   Building_Age_norm2  Useful_Floor_Area [m2]_norm2  EPC_Score_norm2\n",
       "0           -0.198741                     -0.533299        -0.046296\n",
       "1           -1.194535                     -0.644110        -0.370881\n",
       "2           -0.357163                     -0.237531        -0.460273\n",
       "3           -0.560848                     -0.424209        -0.213511\n",
       "4           -0.130846                      1.005278        -0.062393"
      ]
     },
     "execution_count": 631,
     "metadata": {},
     "output_type": "execute_result"
    }
   ],
   "source": [
    "from sklearn.preprocessing import StandardScaler\n",
    "# Standardizing the features\n",
    "data_for_model_norm2 = pd.DataFrame(StandardScaler().fit_transform(data_for_model_o.values))\n",
    "data_for_model_norm2.columns = data_for_model_o.columns  + '_norm2'\n",
    "data_for_model_norm2.head()"
   ]
  },
  {
   "cell_type": "code",
   "execution_count": 632,
   "metadata": {},
   "outputs": [
    {
     "data": {
      "text/html": [
       "<div>\n",
       "<style scoped>\n",
       "    .dataframe tbody tr th:only-of-type {\n",
       "        vertical-align: middle;\n",
       "    }\n",
       "\n",
       "    .dataframe tbody tr th {\n",
       "        vertical-align: top;\n",
       "    }\n",
       "\n",
       "    .dataframe thead th {\n",
       "        text-align: right;\n",
       "    }\n",
       "</style>\n",
       "<table border=\"1\" class=\"dataframe\">\n",
       "  <thead>\n",
       "    <tr style=\"text-align: right;\">\n",
       "      <th></th>\n",
       "      <th>Building_Age_norm</th>\n",
       "      <th>Useful_Floor_Area [m2]_norm</th>\n",
       "      <th>EPC_Score_norm</th>\n",
       "    </tr>\n",
       "  </thead>\n",
       "  <tbody>\n",
       "    <tr>\n",
       "      <th>count</th>\n",
       "      <td>1.996000e+03</td>\n",
       "      <td>1.996000e+03</td>\n",
       "      <td>1.996000e+03</td>\n",
       "    </tr>\n",
       "    <tr>\n",
       "      <th>mean</th>\n",
       "      <td>4.177242e-17</td>\n",
       "      <td>-3.255301e-16</td>\n",
       "      <td>-8.212647e-17</td>\n",
       "    </tr>\n",
       "    <tr>\n",
       "      <th>std</th>\n",
       "      <td>1.000251e+00</td>\n",
       "      <td>1.000251e+00</td>\n",
       "      <td>1.000251e+00</td>\n",
       "    </tr>\n",
       "    <tr>\n",
       "      <th>min</th>\n",
       "      <td>-1.579273e+00</td>\n",
       "      <td>-1.190173e+00</td>\n",
       "      <td>-1.163264e+00</td>\n",
       "    </tr>\n",
       "    <tr>\n",
       "      <th>25%</th>\n",
       "      <td>-5.608481e-01</td>\n",
       "      <td>-5.713642e-01</td>\n",
       "      <td>-3.916300e-01</td>\n",
       "    </tr>\n",
       "    <tr>\n",
       "      <th>50%</th>\n",
       "      <td>-2.100573e-01</td>\n",
       "      <td>-2.220720e-01</td>\n",
       "      <td>-1.427304e-01</td>\n",
       "    </tr>\n",
       "    <tr>\n",
       "      <th>75%</th>\n",
       "      <td>4.802086e-01</td>\n",
       "      <td>2.481234e-01</td>\n",
       "      <td>1.908724e-01</td>\n",
       "    </tr>\n",
       "    <tr>\n",
       "      <th>max</th>\n",
       "      <td>1.885712e+01</td>\n",
       "      <td>1.091182e+01</td>\n",
       "      <td>3.420028e+01</td>\n",
       "    </tr>\n",
       "  </tbody>\n",
       "</table>\n",
       "</div>"
      ],
      "text/plain": [
       "       Building_Age_norm  Useful_Floor_Area [m2]_norm  EPC_Score_norm\n",
       "count       1.996000e+03                 1.996000e+03    1.996000e+03\n",
       "mean        4.177242e-17                -3.255301e-16   -8.212647e-17\n",
       "std         1.000251e+00                 1.000251e+00    1.000251e+00\n",
       "min        -1.579273e+00                -1.190173e+00   -1.163264e+00\n",
       "25%        -5.608481e-01                -5.713642e-01   -3.916300e-01\n",
       "50%        -2.100573e-01                -2.220720e-01   -1.427304e-01\n",
       "75%         4.802086e-01                 2.481234e-01    1.908724e-01\n",
       "max         1.885712e+01                 1.091182e+01    3.420028e+01"
      ]
     },
     "execution_count": 632,
     "metadata": {},
     "output_type": "execute_result"
    }
   ],
   "source": [
    "data_for_model_norm.describe()"
   ]
  },
  {
   "cell_type": "markdown",
   "metadata": {},
   "source": [
    "we can observe that the rescaling results from two standardization methods are same. so we use the latter, even if i would not need inverse_transform and co. supported by StandardScaler().\n",
    "\n",
    "Excerpt from the docs:\n",
    "The function scale provides a quick and easy way to perform this operation on a single array-like dataset\n",
    "\n",
    "The preprocessing module further provides a utility class StandardScaler that implements the Transformer API to compute the mean and standard deviation on a training set so as to be able to later reapply the same transformation on the testing set. This class is hence suitable for use in the early steps of a sklearn.pipeline.Pipeline"
   ]
  },
  {
   "cell_type": "markdown",
   "metadata": {},
   "source": [
    "#### normalization dataset "
   ]
  },
  {
   "cell_type": "markdown",
   "metadata": {},
   "source": [
    "Also the sklearn processing gives us a function MaxAbsScaler() to realize the normalization "
   ]
  },
  {
   "cell_type": "code",
   "execution_count": 633,
   "metadata": {
    "scrolled": true
   },
   "outputs": [
    {
     "data": {
      "text/html": [
       "<div>\n",
       "<style scoped>\n",
       "    .dataframe tbody tr th:only-of-type {\n",
       "        vertical-align: middle;\n",
       "    }\n",
       "\n",
       "    .dataframe tbody tr th {\n",
       "        vertical-align: top;\n",
       "    }\n",
       "\n",
       "    .dataframe thead th {\n",
       "        text-align: right;\n",
       "    }\n",
       "</style>\n",
       "<table border=\"1\" class=\"dataframe\">\n",
       "  <thead>\n",
       "    <tr style=\"text-align: right;\">\n",
       "      <th></th>\n",
       "      <th>Building_Age_norm3</th>\n",
       "      <th>Useful_Floor_Area [m2]_norm3</th>\n",
       "      <th>EPC_Score_norm3</th>\n",
       "    </tr>\n",
       "  </thead>\n",
       "  <tbody>\n",
       "    <tr>\n",
       "      <th>0</th>\n",
       "      <td>0.072687</td>\n",
       "      <td>0.061157</td>\n",
       "      <td>0.033633</td>\n",
       "    </tr>\n",
       "    <tr>\n",
       "      <th>1</th>\n",
       "      <td>0.024229</td>\n",
       "      <td>0.052067</td>\n",
       "      <td>0.024474</td>\n",
       "    </tr>\n",
       "    <tr>\n",
       "      <th>2</th>\n",
       "      <td>0.064978</td>\n",
       "      <td>0.085419</td>\n",
       "      <td>0.021952</td>\n",
       "    </tr>\n",
       "    <tr>\n",
       "      <th>3</th>\n",
       "      <td>0.055066</td>\n",
       "      <td>0.070106</td>\n",
       "      <td>0.028915</td>\n",
       "    </tr>\n",
       "    <tr>\n",
       "      <th>4</th>\n",
       "      <td>0.075991</td>\n",
       "      <td>0.187367</td>\n",
       "      <td>0.033179</td>\n",
       "    </tr>\n",
       "  </tbody>\n",
       "</table>\n",
       "</div>"
      ],
      "text/plain": [
       "   Building_Age_norm3  Useful_Floor_Area [m2]_norm3  EPC_Score_norm3\n",
       "0            0.072687                      0.061157         0.033633\n",
       "1            0.024229                      0.052067         0.024474\n",
       "2            0.064978                      0.085419         0.021952\n",
       "3            0.055066                      0.070106         0.028915\n",
       "4            0.075991                      0.187367         0.033179"
      ]
     },
     "execution_count": 633,
     "metadata": {},
     "output_type": "execute_result"
    }
   ],
   "source": [
    "max_abs_scaler = preprocessing.MaxAbsScaler()\n",
    "data_for_model_norm3 = pd.DataFrame(max_abs_scaler.fit_transform(data_for_model_o))\n",
    "data_for_model_norm3.columns = data_for_model_o.columns  + '_norm3'\n",
    "data_for_model_norm3.head()"
   ]
  },
  {
   "cell_type": "markdown",
   "metadata": {},
   "source": [
    "#### comparison the outlier of original data and rescaling data "
   ]
  },
  {
   "cell_type": "markdown",
   "metadata": {},
   "source": [
    "This step will verify the distribution of before and after preprocessing change or not. if the distribution of dataset have not been changed, we can delete firstly the outlier and then rescaling the data. the result of rescaling data will be better comapring with the dataset with the ouliers."
   ]
  },
  {
   "cell_type": "markdown",
   "metadata": {},
   "source": [
    "The figures of boxplot and distribution for the origianl data"
   ]
  },
  {
   "cell_type": "code",
   "execution_count": 634,
   "metadata": {
    "scrolled": true
   },
   "outputs": [
    {
     "data": {
      "text/plain": [
       "array([[<matplotlib.axes._subplots.AxesSubplot object at 0x1a25417b00>,\n",
       "        <matplotlib.axes._subplots.AxesSubplot object at 0x1a2e1076d8>],\n",
       "       [<matplotlib.axes._subplots.AxesSubplot object at 0x1a25d3aeb8>,\n",
       "        <matplotlib.axes._subplots.AxesSubplot object at 0x1a261caf60>]],\n",
       "      dtype=object)"
      ]
     },
     "execution_count": 634,
     "metadata": {},
     "output_type": "execute_result"
    },
    {
     "data": {
      "image/png": "[encoded data removed]",
      "text/plain": [
       "<Figure size 432x288 with 1 Axes>"
      ]
     },
     "metadata": {},
     "output_type": "display_data"
    },
    {
     "data": {
      "image/png": "[encoded data removed]",
      "text/plain": [
       "<Figure size 432x288 with 4 Axes>"
      ]
     },
     "metadata": {},
     "output_type": "display_data"
    }
   ],
   "source": [
    "data_for_model_norm.boxplot()\n",
    "#plt.title(\"Education building standard data\")\n",
    "data_for_model_norm.hist()"
   ]
  },
  {
   "cell_type": "code",
   "execution_count": 635,
   "metadata": {
    "scrolled": true
   },
   "outputs": [
    {
     "data": {
      "text/plain": [
       "Text(0.5,0.98,'Comparing distribution of building_age')"
      ]
     },
     "execution_count": 635,
     "metadata": {},
     "output_type": "execute_result"
    },
    {
     "data": {
      "image/png": "[encoded data removed]",
      "text/plain": [
       "<Figure size 432x288 with 3 Axes>"
      ]
     },
     "metadata": {},
     "output_type": "display_data"
    }
   ],
   "source": [
    "age1 = data_for_model_o.iloc[:,0]\n",
    "age2 = data_for_model_norm2.iloc[:,0]\n",
    "age3 = data_for_model_norm3.iloc[:,0]\n",
    "\n",
    "fig, axs = plt.subplots(1, 3)\n",
    "axs[0].boxplot(age1)\n",
    "axs[0].set_title('original')\n",
    "axs[1].boxplot(age2)\n",
    "axs[1].set_title('standard data')\n",
    "axs[2].boxplot(age3)\n",
    "axs[2].set_title('normalization data')\n",
    "fig.suptitle('Comparing distribution of building_age', fontsize=16)\n"
   ]
  },
  {
   "cell_type": "markdown",
   "metadata": {},
   "source": [
    "we can find drectly the values in before and after boxplot are the same distribution. so let's processing the outlier values based on the boxplot."
   ]
  },
  {
   "cell_type": "markdown",
   "metadata": {},
   "source": [
    "#### what's boxplot?"
   ]
  },
  {
   "cell_type": "markdown",
   "metadata": {},
   "source": [
    "we can find drectly the values in before and after boxplot are the same distribution. \n",
    "so let's processing the outlier values based on the boxplot. \n",
    "\n",
    "what's boxplot? \n",
    "boxplot is a method for graphically depicting groups of numerical data through their quartiles. Box plots may also have lines extending vertically from the boxes (whiskers) indicating variability outside the upper and lower quartiles, hence the terms box-and-whisker plot and box-and-whisker diagram.\n",
    "\n",
    "In addition to the points themselves, they allow one to visually estimate various L-estimators, notably the interquartile range, midhinge, range, mid-range, and trimean.\n",
    "\n",
    "interquartile range (IQR):is a measure of statistical dispersion, being equal to the difference between 75th and 25th percentiles,or between upper and lower quartiles. IQR = Q3 −  Q1\n",
    "lowest datum still within 1.5 IQR of the lower quartile, and the highest datum still within 1.5 IQR of the upper quartile \n",
    "Q1-1.5IQR\n",
    "Q1 = %25\n",
    "Q3 = %75\n",
    "Q3 + 1.5*IQR\n"
   ]
  },
  {
   "cell_type": "code",
   "execution_count": null,
   "metadata": {},
   "outputs": [],
   "source": []
  },
  {
   "cell_type": "markdown",
   "metadata": {},
   "source": [
    "###  remove outlier and rescaling dataset"
   ]
  },
  {
   "cell_type": "markdown",
   "metadata": {},
   "source": [
    "using the value percentile and boxplot to remove the outlier data"
   ]
  },
  {
   "cell_type": "code",
   "execution_count": 636,
   "metadata": {},
   "outputs": [],
   "source": [
    "Q1_Q3 = data_for_model_o.quantile([0.25,0.75]).as_matrix()\n",
    "Q1 = Q1_Q3[0]\n",
    "Q3 = Q1_Q3[1]\n",
    "\n",
    "IQR = Q3 - Q1\n",
    "outlier_Q1 = Q1 - 1.5*IQR\n",
    "outlier_Q3 = Q3 + 1.5*IQR"
   ]
  },
  {
   "cell_type": "code",
   "execution_count": 637,
   "metadata": {},
   "outputs": [],
   "source": [
    "#outlier for 3 index \n",
    "outlier = (data_for_model_o['Useful_Floor_Area [m2]']<outlier_Q1[1])|(data_for_model_o['Useful_Floor_Area [m2]']>outlier_Q3[1])|(data_for_model_o['EPC_Score']>outlier_Q3[2])|(data_for_model_o['EPC_Score']<outlier_Q1[2])|(data_for_model_o['Building_Age']<outlier_Q1[0])|(data_for_model_o['Building_Age']>outlier_Q3[0])\n",
    "outlier_index = data_for_model_o[outlier].index\n",
    "\n",
    "#outlier for 2 index\n",
    "#outlier = (data_for_model_o['EPC_Score']>outlier_Q3[1])|(data_for_model_o['EPC_Score']<outlier_Q1[1])|(data_for_model_o['Building_Age']<outlier_Q1[0])|(data_for_model_o['Building_Age']>outlier_Q3[0])\n",
    "#outlier_index = data_for_model_o[outlier].index"
   ]
  },
  {
   "cell_type": "markdown",
   "metadata": {},
   "source": [
    "the distribution features after remove outlier is almost close to the distribution normal. "
   ]
  },
  {
   "cell_type": "code",
   "execution_count": 638,
   "metadata": {},
   "outputs": [
    {
     "data": {
      "text/plain": [
       "array([[<matplotlib.axes._subplots.AxesSubplot object at 0x1a25df5940>,\n",
       "        <matplotlib.axes._subplots.AxesSubplot object at 0x1a25fa82e8>],\n",
       "       [<matplotlib.axes._subplots.AxesSubplot object at 0x1a269b27b8>,\n",
       "        <matplotlib.axes._subplots.AxesSubplot object at 0x1a25e42e48>]],\n",
       "      dtype=object)"
      ]
     },
     "execution_count": 638,
     "metadata": {},
     "output_type": "execute_result"
    },
    {
     "data": {
      "image/png": "[encoded data removed]",
      "text/plain": [
       "<Figure size 432x288 with 4 Axes>"
      ]
     },
     "metadata": {},
     "output_type": "display_data"
    }
   ],
   "source": [
    "data_for_model_o_drop = data_for_model_o\n",
    "data_for_model_o_drop = data_for_model_o_drop.drop(outlier_index,axis=0)\n",
    "#data_for_model_o_drop.head()\n",
    "data_for_model_o_drop.hist()"
   ]
  },
  {
   "cell_type": "markdown",
   "metadata": {},
   "source": [
    "now we can standarlize the data after remove outlier,we try also two method for rescaling data "
   ]
  },
  {
   "cell_type": "code",
   "execution_count": 639,
   "metadata": {},
   "outputs": [
    {
     "data": {
      "text/html": [
       "<div>\n",
       "<style scoped>\n",
       "    .dataframe tbody tr th:only-of-type {\n",
       "        vertical-align: middle;\n",
       "    }\n",
       "\n",
       "    .dataframe tbody tr th {\n",
       "        vertical-align: top;\n",
       "    }\n",
       "\n",
       "    .dataframe thead th {\n",
       "        text-align: right;\n",
       "    }\n",
       "</style>\n",
       "<table border=\"1\" class=\"dataframe\">\n",
       "  <thead>\n",
       "    <tr style=\"text-align: right;\">\n",
       "      <th></th>\n",
       "      <th>Building_Age_stand_drop</th>\n",
       "      <th>Useful_Floor_Area [m2]_stand_drop</th>\n",
       "      <th>EPC_Score_stand_drop</th>\n",
       "    </tr>\n",
       "  </thead>\n",
       "  <tbody>\n",
       "    <tr>\n",
       "      <th>0</th>\n",
       "      <td>-0.191394</td>\n",
       "      <td>-0.675936</td>\n",
       "      <td>0.145873</td>\n",
       "    </tr>\n",
       "    <tr>\n",
       "      <th>1</th>\n",
       "      <td>-1.528957</td>\n",
       "      <td>-0.880563</td>\n",
       "      <td>-0.668936</td>\n",
       "    </tr>\n",
       "    <tr>\n",
       "      <th>2</th>\n",
       "      <td>-0.404188</td>\n",
       "      <td>-0.129762</td>\n",
       "      <td>-0.893338</td>\n",
       "    </tr>\n",
       "    <tr>\n",
       "      <th>3</th>\n",
       "      <td>-0.677781</td>\n",
       "      <td>-0.474487</td>\n",
       "      <td>-0.273888</td>\n",
       "    </tr>\n",
       "    <tr>\n",
       "      <th>4</th>\n",
       "      <td>-0.100196</td>\n",
       "      <td>2.165246</td>\n",
       "      <td>0.105466</td>\n",
       "    </tr>\n",
       "  </tbody>\n",
       "</table>\n",
       "</div>"
      ],
      "text/plain": [
       "   Building_Age_stand_drop  Useful_Floor_Area [m2]_stand_drop  \\\n",
       "0                -0.191394                          -0.675936   \n",
       "1                -1.528957                          -0.880563   \n",
       "2                -0.404188                          -0.129762   \n",
       "3                -0.677781                          -0.474487   \n",
       "4                -0.100196                           2.165246   \n",
       "\n",
       "   EPC_Score_stand_drop  \n",
       "0              0.145873  \n",
       "1             -0.668936  \n",
       "2             -0.893338  \n",
       "3             -0.273888  \n",
       "4              0.105466  "
      ]
     },
     "execution_count": 639,
     "metadata": {},
     "output_type": "execute_result"
    }
   ],
   "source": [
    "#standarlizing the dataset without outlier\n",
    "data_for_model_stand_drop = pd.DataFrame(preprocessing.scale(data_for_model_o_drop))\n",
    "data_for_model_stand_drop.columns = data_for_model_o.columns  + '_stand_drop'\n",
    "data_for_model_stand_drop.head()"
   ]
  },
  {
   "cell_type": "code",
   "execution_count": 640,
   "metadata": {},
   "outputs": [
    {
     "data": {
      "text/html": [
       "<div>\n",
       "<style scoped>\n",
       "    .dataframe tbody tr th:only-of-type {\n",
       "        vertical-align: middle;\n",
       "    }\n",
       "\n",
       "    .dataframe tbody tr th {\n",
       "        vertical-align: top;\n",
       "    }\n",
       "\n",
       "    .dataframe thead th {\n",
       "        text-align: right;\n",
       "    }\n",
       "</style>\n",
       "<table border=\"1\" class=\"dataframe\">\n",
       "  <thead>\n",
       "    <tr style=\"text-align: right;\">\n",
       "      <th></th>\n",
       "      <th>Building_Age_norm_drop</th>\n",
       "      <th>Useful_Floor_Area [m2]_norm_drop</th>\n",
       "      <th>EPC_Score_norm_drop</th>\n",
       "    </tr>\n",
       "  </thead>\n",
       "  <tbody>\n",
       "    <tr>\n",
       "      <th>0</th>\n",
       "      <td>0.400000</td>\n",
       "      <td>0.270763</td>\n",
       "      <td>0.522178</td>\n",
       "    </tr>\n",
       "    <tr>\n",
       "      <th>1</th>\n",
       "      <td>0.133333</td>\n",
       "      <td>0.230519</td>\n",
       "      <td>0.379978</td>\n",
       "    </tr>\n",
       "    <tr>\n",
       "      <th>2</th>\n",
       "      <td>0.357576</td>\n",
       "      <td>0.378178</td>\n",
       "      <td>0.340815</td>\n",
       "    </tr>\n",
       "    <tr>\n",
       "      <th>3</th>\n",
       "      <td>0.303030</td>\n",
       "      <td>0.310381</td>\n",
       "      <td>0.448922</td>\n",
       "    </tr>\n",
       "    <tr>\n",
       "      <th>4</th>\n",
       "      <td>0.418182</td>\n",
       "      <td>0.829534</td>\n",
       "      <td>0.515127</td>\n",
       "    </tr>\n",
       "  </tbody>\n",
       "</table>\n",
       "</div>"
      ],
      "text/plain": [
       "   Building_Age_norm_drop  Useful_Floor_Area [m2]_norm_drop  \\\n",
       "0                0.400000                          0.270763   \n",
       "1                0.133333                          0.230519   \n",
       "2                0.357576                          0.378178   \n",
       "3                0.303030                          0.310381   \n",
       "4                0.418182                          0.829534   \n",
       "\n",
       "   EPC_Score_norm_drop  \n",
       "0             0.522178  \n",
       "1             0.379978  \n",
       "2             0.340815  \n",
       "3             0.448922  \n",
       "4             0.515127  "
      ]
     },
     "execution_count": 640,
     "metadata": {},
     "output_type": "execute_result"
    }
   ],
   "source": [
    "#normalization the dataset without outlier\n",
    "max_abs_scaler = preprocessing.MaxAbsScaler()\n",
    "data_for_model_norm_drop = pd.DataFrame(max_abs_scaler.fit_transform(data_for_model_o_drop))\n",
    "data_for_model_norm_drop.columns = data_for_model_o.columns  + '_norm_drop'\n",
    "data_for_model_norm_drop.head()"
   ]
  },
  {
   "cell_type": "code",
   "execution_count": 678,
   "metadata": {},
   "outputs": [
    {
     "data": {
      "text/html": [
       "<style  type=\"text/css\" >\n",
       "    #T_2d5c643a_758b_11e9_b0d9_f45c89cda5bfrow0_col0 {\n",
       "            background-color:  #b40426;\n",
       "        }    #T_2d5c643a_758b_11e9_b0d9_f45c89cda5bfrow0_col1 {\n",
       "            background-color:  #3b4cc0;\n",
       "        }    #T_2d5c643a_758b_11e9_b0d9_f45c89cda5bfrow0_col2 {\n",
       "            background-color:  #4b64d5;\n",
       "        }    #T_2d5c643a_758b_11e9_b0d9_f45c89cda5bfrow1_col0 {\n",
       "            background-color:  #3b4cc0;\n",
       "        }    #T_2d5c643a_758b_11e9_b0d9_f45c89cda5bfrow1_col1 {\n",
       "            background-color:  #b40426;\n",
       "        }    #T_2d5c643a_758b_11e9_b0d9_f45c89cda5bfrow1_col2 {\n",
       "            background-color:  #3b4cc0;\n",
       "        }    #T_2d5c643a_758b_11e9_b0d9_f45c89cda5bfrow2_col0 {\n",
       "            background-color:  #4c66d6;\n",
       "        }    #T_2d5c643a_758b_11e9_b0d9_f45c89cda5bfrow2_col1 {\n",
       "            background-color:  #3b4cc0;\n",
       "        }    #T_2d5c643a_758b_11e9_b0d9_f45c89cda5bfrow2_col2 {\n",
       "            background-color:  #b40426;\n",
       "        }</style>  \n",
       "<table id=\"T_2d5c643a_758b_11e9_b0d9_f45c89cda5bf\" > \n",
       "<thead>    <tr> \n",
       "        <th class=\"blank level0\" ></th> \n",
       "        <th class=\"col_heading level0 col0\" >Building_Age_norm_drop</th> \n",
       "        <th class=\"col_heading level0 col1\" >Useful_Floor_Area [m2]_norm_drop</th> \n",
       "        <th class=\"col_heading level0 col2\" >EPC_Score_norm_drop</th> \n",
       "    </tr></thead> \n",
       "<tbody>    <tr> \n",
       "        <th id=\"T_2d5c643a_758b_11e9_b0d9_f45c89cda5bflevel0_row0\" class=\"row_heading level0 row0\" >Building_Age_norm_drop</th> \n",
       "        <td id=\"T_2d5c643a_758b_11e9_b0d9_f45c89cda5bfrow0_col0\" class=\"data row0 col0\" >1</td> \n",
       "        <td id=\"T_2d5c643a_758b_11e9_b0d9_f45c89cda5bfrow0_col1\" class=\"data row0 col1\" >-0.0511486</td> \n",
       "        <td id=\"T_2d5c643a_758b_11e9_b0d9_f45c89cda5bfrow0_col2\" class=\"data row0 col2\" >0.010836</td> \n",
       "    </tr>    <tr> \n",
       "        <th id=\"T_2d5c643a_758b_11e9_b0d9_f45c89cda5bflevel0_row1\" class=\"row_heading level0 row1\" >Useful_Floor_Area [m2]_norm_drop</th> \n",
       "        <td id=\"T_2d5c643a_758b_11e9_b0d9_f45c89cda5bfrow1_col0\" class=\"data row1 col0\" >-0.0511486</td> \n",
       "        <td id=\"T_2d5c643a_758b_11e9_b0d9_f45c89cda5bfrow1_col1\" class=\"data row1 col1\" >1</td> \n",
       "        <td id=\"T_2d5c643a_758b_11e9_b0d9_f45c89cda5bfrow1_col2\" class=\"data row1 col2\" >-0.0484054</td> \n",
       "    </tr>    <tr> \n",
       "        <th id=\"T_2d5c643a_758b_11e9_b0d9_f45c89cda5bflevel0_row2\" class=\"row_heading level0 row2\" >EPC_Score_norm_drop</th> \n",
       "        <td id=\"T_2d5c643a_758b_11e9_b0d9_f45c89cda5bfrow2_col0\" class=\"data row2 col0\" >0.010836</td> \n",
       "        <td id=\"T_2d5c643a_758b_11e9_b0d9_f45c89cda5bfrow2_col1\" class=\"data row2 col1\" >-0.0484054</td> \n",
       "        <td id=\"T_2d5c643a_758b_11e9_b0d9_f45c89cda5bfrow2_col2\" class=\"data row2 col2\" >1</td> \n",
       "    </tr></tbody> \n",
       "</table> "
      ],
      "text/plain": [
       "<pandas.io.formats.style.Styler at 0x1a28528908>"
      ]
     },
     "execution_count": 678,
     "metadata": {},
     "output_type": "execute_result"
    }
   ],
   "source": [
    "corr = data_for_model_norm_drop.corr()\n",
    "corr.style.background_gradient(cmap='coolwarm')"
   ]
  },
  {
   "cell_type": "markdown",
   "metadata": {},
   "source": [
    "#### data for the model"
   ]
  },
  {
   "cell_type": "code",
   "execution_count": 660,
   "metadata": {},
   "outputs": [],
   "source": [
    "r = data_for_model_norm_drop"
   ]
  },
  {
   "cell_type": "markdown",
   "metadata": {},
   "source": [
    "#### labeling the types"
   ]
  },
  {
   "cell_type": "markdown",
   "metadata": {},
   "source": [
    "a example for adding labels of the features public_building_type in the category 'educational building'. i want to compare the result of before and after clustering. \n",
    "in the category 'educational building', it exist 6 types buildings. a assumption about perform of clustering. if it has a relationship with the original type, maybe it can prove something.  \n"
   ]
  },
  {
   "cell_type": "code",
   "execution_count": 661,
   "metadata": {},
   "outputs": [],
   "source": [
    "#data_use_o.head()"
   ]
  },
  {
   "cell_type": "code",
   "execution_count": 662,
   "metadata": {},
   "outputs": [],
   "source": [
    "# extrait the feature public_building_type.\n",
    "#typeall = data_use_o.loc[data_use_o[f1]==value,['EPC_ID','Public_Building_Type']]\n",
    "#typeall_drop = typeall.drop(outlier_index,axis=0)\n",
    "#type_drop_edu = typeall_drop.groupby('Public_Building_Type').count()"
   ]
  },
  {
   "cell_type": "code",
   "execution_count": 663,
   "metadata": {},
   "outputs": [],
   "source": [
    "#typeall_drop.head()\n",
    "#type_drop_edu.index.values[0]"
   ]
  },
  {
   "cell_type": "code",
   "execution_count": 664,
   "metadata": {},
   "outputs": [],
   "source": [
    "#a = np.empty((typeall_drop.shape[0]))\n",
    "#for i in range(0,type_drop_edu.shape[0]):\n",
    "#    soustype = type_drop_edu.index.values[i]\n",
    "    #index = typeall_drop[typeall_drop.loc[:,'Public_Building_Type']==soustype]\n",
    "#    index = np.where(typeall_drop.loc[:,'Public_Building_Type']==soustype)\n",
    "#    a[index] = i"
   ]
  },
  {
   "cell_type": "code",
   "execution_count": 665,
   "metadata": {},
   "outputs": [],
   "source": [
    "#fig = plt.figure()\n",
    "#ax1 = Axes3D(fig)\n",
    "#ax1.scatter(r.iloc[:,0],r.iloc[:,1],r.iloc[:,2],c=a,s=50,cmap='viridis')\n",
    "#ax1.set_xlabel(r.columns[0])\n",
    "#ax1.set_ylabel(r.columns[1])\n",
    "#ax1.set_zlabel(r.columns[2])\n",
    "\n",
    "#plt.show"
   ]
  },
  {
   "cell_type": "markdown",
   "metadata": {},
   "source": [
    "### show all the distribution standard data 3D - 3index"
   ]
  },
  {
   "cell_type": "code",
   "execution_count": 666,
   "metadata": {},
   "outputs": [
    {
     "data": {
      "text/plain": [
       "<function matplotlib.pyplot.show(*args, **kw)>"
      ]
     },
     "execution_count": 666,
     "metadata": {},
     "output_type": "execute_result"
    },
    {
     "data": {
      "image/png": "[encoded data removed]",
      "text/plain": [
       "<Figure size 432x288 with 1 Axes>"
      ]
     },
     "metadata": {},
     "output_type": "display_data"
    }
   ],
   "source": [
    "from mpl_toolkits.mplot3d import Axes3D\n",
    "fig = plt.figure()\n",
    "ax = Axes3D(fig)\n",
    "ax.scatter(r.iloc[:,0],r.iloc[:,1],r.iloc[:,2],s=50,c='b')\n",
    "ax.set_xlabel(r.columns[0])\n",
    "ax.set_ylabel(r.columns[1])\n",
    "ax.set_zlabel(r.columns[2])\n",
    "plt.show"
   ]
  },
  {
   "cell_type": "code",
   "execution_count": null,
   "metadata": {},
   "outputs": [],
   "source": []
  },
  {
   "cell_type": "markdown",
   "metadata": {},
   "source": [
    "## Model Kmean for data standard "
   ]
  },
  {
   "cell_type": "markdown",
   "metadata": {},
   "source": [
    "### an example for one kmeans: 3 class "
   ]
  },
  {
   "cell_type": "code",
   "execution_count": 667,
   "metadata": {},
   "outputs": [
    {
     "data": {
      "text/plain": [
       "0.27859819648309414"
      ]
     },
     "execution_count": 667,
     "metadata": {},
     "output_type": "execute_result"
    }
   ],
   "source": [
    "from sklearn.cluster import KMeans\n",
    "from sklearn import metrics\n",
    "from sklearn.metrics import pairwise_distances\n",
    "\n",
    "model_kmean = KMeans(algorithm='auto', copy_x=True, init='k-means++', max_iter=300, n_clusters=4, n_init=10, n_jobs=1, precompute_distances='auto',random_state=None, tol=0.0001, verbose=0)\n",
    "label = model_kmean.fit(r)\n",
    "model_kmean.cluster_centers_\n",
    "model_kmean_predict1 = model_kmean.predict(r)\n",
    "metrics.silhouette_score(r, label.labels_, metric='euclidean')"
   ]
  },
  {
   "cell_type": "markdown",
   "metadata": {},
   "source": [
    "the figure 3D -3 features"
   ]
  },
  {
   "cell_type": "code",
   "execution_count": 668,
   "metadata": {},
   "outputs": [
    {
     "data": {
      "text/plain": [
       "<function matplotlib.pyplot.show(*args, **kw)>"
      ]
     },
     "execution_count": 668,
     "metadata": {},
     "output_type": "execute_result"
    },
    {
     "data": {
      "image/png": "[encoded data removed]",
      "text/plain": [
       "<Figure size 432x288 with 1 Axes>"
      ]
     },
     "metadata": {},
     "output_type": "display_data"
    }
   ],
   "source": [
    "fig = plt.figure()\n",
    "ax1 = Axes3D(fig)\n",
    "ax1.scatter(r.iloc[:,0],r.iloc[:,1],r.iloc[:,2],c=model_kmean_predict1,s=50,cmap='viridis')\n",
    "ax1.set_xlabel(r.columns[0])\n",
    "ax1.set_ylabel(r.columns[1])\n",
    "ax1.set_zlabel(r.columns[2])\n",
    "#ax1.view_init(20, 0) #view\n",
    "plt.show"
   ]
  },
  {
   "cell_type": "markdown",
   "metadata": {},
   "source": []
  },
  {
   "cell_type": "markdown",
   "metadata": {},
   "source": [
    "### apply the 1-9 class "
   ]
  },
  {
   "cell_type": "code",
   "execution_count": 669,
   "metadata": {},
   "outputs": [],
   "source": [
    "from scipy.spatial.distance import cdist\n",
    "\n",
    "distortions = []\n",
    "centroid = []\n",
    "evolution = []\n",
    "\n",
    "cla = range(2,10)\n",
    "\n",
    "for i in cla:\n",
    "    model_kmean = KMeans(algorithm='auto', copy_x=True, init='k-means++', max_iter=300, n_clusters=i, n_init=10, n_jobs=1, precompute_distances='auto',random_state=None, tol=0.0001, verbose=0)\n",
    "    labels = model_kmean.fit(r)\n",
    "    \n",
    "    model_kmean_predict = model_kmean.predict(r)\n",
    "    #centroids = model_kmean.cluster_centers_\n",
    "    \n",
    "    #Silhouette Coefficient¶\n",
    "    evolution.append(metrics.silhouette_score(r, labels.labels_, metric='euclidean'))\n",
    "    \n",
    "    #centroid\n",
    "    centroid.append(sum(model_kmean.cluster_centers_))\n",
    "    \n",
    "    #elbow\n",
    "    distortions.append(sum(np.min(cdist(r, model_kmean.cluster_centers_, 'euclidean'), axis=1)) / r.shape[0])"
   ]
  },
  {
   "cell_type": "markdown",
   "metadata": {},
   "source": [
    "### kmean's evolution "
   ]
  },
  {
   "cell_type": "code",
   "execution_count": 670,
   "metadata": {
    "scrolled": true
   },
   "outputs": [
    {
     "data": {
      "image/png": "[encoded data removed]",
      "text/plain": [
       "<Figure size 432x288 with 2 Axes>"
      ]
     },
     "metadata": {},
     "output_type": "display_data"
    }
   ],
   "source": [
    "# Plot the elbow\n",
    "plt.subplot(1,2,1)\n",
    "plt.plot(cla, distortions, 'bx-')\n",
    "plt.xlabel('k')\n",
    "plt.ylabel('Distortion')\n",
    "plt.title('The Elbow Method showing the optimal k')\n",
    "#plt.show()\n",
    "\n",
    "# Plot the Silhouette Coefficient\n",
    "plt.subplot(1,2,2)\n",
    "plt.plot(cla, evolution, 'bx-')\n",
    "plt.xlabel('k')\n",
    "plt.ylabel('Distortion')\n",
    "plt.title('The Silhouette Coefficient')\n",
    "plt.show()"
   ]
  },
  {
   "cell_type": "markdown",
   "metadata": {},
   "source": [
    "## Model k medoids for data standard"
   ]
  },
  {
   "cell_type": "code",
   "execution_count": 671,
   "metadata": {},
   "outputs": [],
   "source": [
    "r_ = list(r.values)"
   ]
  },
  {
   "cell_type": "code",
   "execution_count": 672,
   "metadata": {},
   "outputs": [
    {
     "data": {
      "text/plain": [
       "list"
      ]
     },
     "execution_count": 672,
     "metadata": {},
     "output_type": "execute_result"
    }
   ],
   "source": [
    "data_ = [\n",
    "    [5.2, 3.7],[5.1,4.1], [5.2, 4.2], [5, 3.7], [5.3, 4], [5.5, 3.8], [5,4], [4.7, 3.7], [4.8, 4], [4.7, 3.3], [5.2, 3.3],[4.9,3.4], [5.3,3.5]\n",
    "    ,[2.6, 1.5],[2.5, 1.2],[2.7, 1],[2.4,1.7],[2.6, 1.5],[2.7, 1.8], [2.1, 1.1], [2.2, 1.4], [2.3,0.8], [2.3, 1.3], [2.5,2]\n",
    "    , [3, 3.5], [3.5, 3.8], [3.9, 3.2], [4.5, 1.9], [4.3, 1.4], [4, 2]\n",
    "]\n",
    "type(data_)#data_"
   ]
  },
  {
   "cell_type": "code",
   "execution_count": 673,
   "metadata": {},
   "outputs": [],
   "source": [
    "from KMedoids import KMedoids\n",
    "# split into 2 clusters\n",
    "n_clusters = range(2,8)\n",
    "k_medoids = [KMedoids(n_cluster=i) for i in n_clusters]\n",
    "#k_medoids = [k_medoid.fit(r_) for k_medoid in k_medoids]\n",
    "#loss = [k_medoid.calculate_distance_of_clusters() for k_medoid in k_medoids]\n",
    "\n"
   ]
  },
  {
   "cell_type": "code",
   "execution_count": 674,
   "metadata": {},
   "outputs": [],
   "source": [
    "k_medoids = [k_medoid.fit(r_) for k_medoid in k_medoids]\n",
    "loss = [k_medoid.calculate_distance_of_clusters() for k_medoid in k_medoids]"
   ]
  },
  {
   "cell_type": "code",
   "execution_count": 675,
   "metadata": {
    "scrolled": true
   },
   "outputs": [
    {
     "data": {
      "image/png": "[encoded data removed]",
      "text/plain": [
       "<Figure size 936x576 with 1 Axes>"
      ]
     },
     "metadata": {},
     "output_type": "display_data"
    }
   ],
   "source": [
    "# Plot elbow curve (to know best cluster count)\n",
    "plt.figure(figsize=(13,8))\n",
    "plt.plot(n_clusters,loss)\n",
    "plt.xticks(n_clusters)\n",
    "plt.xlabel('Number of Clusters')\n",
    "plt.ylabel('Loss')\n",
    "plt.title('Loss Vs No. Of clusters')\n",
    "plt.show()"
   ]
  },
  {
   "cell_type": "markdown",
   "metadata": {},
   "source": [
    "## Model PCA for data standard "
   ]
  },
  {
   "cell_type": "code",
   "execution_count": 676,
   "metadata": {},
   "outputs": [
    {
     "data": {
      "text/plain": [
       "array([[ 5.73719968e-02, -1.28390621e-01, -4.79994750e-04],\n",
       "       [-1.39395629e-01, -3.08490852e-01, -1.48121664e-01],\n",
       "       [-6.47684377e-02, -4.78103538e-02, -1.58020386e-01],\n",
       "       ...,\n",
       "       [-1.42202783e-01,  6.31507560e-01, -1.67089450e-02],\n",
       "       [ 4.46157412e-01,  8.65741352e-02,  6.94873733e-02],\n",
       "       [-2.89102062e-02, -1.00354933e-01, -1.23279263e-01]])"
      ]
     },
     "execution_count": 676,
     "metadata": {},
     "output_type": "execute_result"
    }
   ],
   "source": [
    "from sklearn.decomposition import PCA\n",
    "pca = PCA(n_components=3)\n",
    "principalComponents = pca.fit_transform(r)\n",
    "principalComponents\n",
    "#principalDf = pd.DataFrame(data = principalComponents）\n",
    "             #,columns = ['principal component 1', 'principal component 2'])"
   ]
  },
  {
   "cell_type": "code",
   "execution_count": 677,
   "metadata": {},
   "outputs": [
    {
     "ename": "NameError",
     "evalue": "name 'principalDf' is not defined",
     "output_type": "error",
     "traceback": [
      "\u001b[0;31m---------------------------------------------------------------------------\u001b[0m",
      "\u001b[0;31mNameError\u001b[0m                                 Traceback (most recent call last)",
      "\u001b[0;32m<ipython-input-677-0ac6e480d069>\u001b[0m in \u001b[0;36m<module>\u001b[0;34m()\u001b[0m\n\u001b[0;32m----> 1\u001b[0;31m \u001b[0mprincipalDf\u001b[0m\u001b[0;34m.\u001b[0m\u001b[0mhead\u001b[0m\u001b[0;34m(\u001b[0m\u001b[0;34m)\u001b[0m\u001b[0;34m\u001b[0m\u001b[0m\n\u001b[0m\u001b[1;32m      2\u001b[0m \u001b[0mprincipalDf\u001b[0m\u001b[0;34m.\u001b[0m\u001b[0mdescribe\u001b[0m\u001b[0;34m(\u001b[0m\u001b[0;34m)\u001b[0m\u001b[0;34m\u001b[0m\u001b[0m\n",
      "\u001b[0;31mNameError\u001b[0m: name 'principalDf' is not defined"
     ]
    }
   ],
   "source": [
    "principalDf.head()\n",
    "principalDf.describe()"
   ]
  },
  {
   "cell_type": "code",
   "execution_count": null,
   "metadata": {},
   "outputs": [],
   "source": [
    "plt.figure\n",
    "plt.scatter(principalDf.iloc[:,0],principalDf.iloc[:,1])\n",
    "plt.show()"
   ]
  },
  {
   "cell_type": "code",
   "execution_count": null,
   "metadata": {},
   "outputs": [],
   "source": [
    "pca.explained_variance_ratio_"
   ]
  },
  {
   "cell_type": "markdown",
   "metadata": {},
   "source": [
    "### show all the distribution standard data 2D - 2index"
   ]
  },
  {
   "cell_type": "code",
   "execution_count": null,
   "metadata": {},
   "outputs": [],
   "source": [
    "# #### figure 2D -2 features\n",
    "plt.figure\n",
    "plt.scatter(r.iloc[:,0],r.iloc[:,1],c=model_kmean_predict1,s=50,cmap='viridis')\n",
    "plt.xlabel(r.columns[0])\n",
    "plt.ylabel(r.columns[1])\n",
    "#plt.set_zlabel('EPC_Score_Standardized')\n",
    "plt.show"
   ]
  },
  {
   "cell_type": "code",
   "execution_count": null,
   "metadata": {},
   "outputs": [],
   "source": [
    "plt.figure()\n",
    "plt.scatter(r.iloc[:,0],r.iloc[:,1],s=50,c='b')\n",
    "plt.xlabel(r.columns[0])\n",
    "plt.ylabel(r.columns[1])\n",
    "#plt.set_zlabel('EPC_Score_Standardized')\n",
    "plt.show"
   ]
  }
 ],
 "metadata": {
  "kernelspec": {
   "display_name": "Python 3",
   "language": "python",
   "name": "python3"
  },
  "language_info": {
   "codemirror_mode": {
    "name": "ipython",
    "version": 3
   },
   "file_extension": ".py",
   "mimetype": "text/x-python",
   "name": "python",
   "nbconvert_exporter": "python",
   "pygments_lexer": "ipython3",
   "version": "3.6.5"
  },
  "toc": {
   "base_numbering": 1,
   "nav_menu": {},
   "number_sections": true,
   "sideBar": true,
   "skip_h1_title": false,
   "title_cell": "Table of Contents",
   "title_sidebar": "Contents",
   "toc_cell": false,
   "toc_position": {
    "height": "534px",
    "left": "107px",
    "top": "110px",
    "width": "195px"
   },
   "toc_section_display": true,
   "toc_window_display": true
  }
 },
 "nbformat": 4,
 "nbformat_minor": 2
}
